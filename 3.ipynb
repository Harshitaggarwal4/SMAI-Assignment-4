{
 "cells": [
  {
   "cell_type": "code",
   "execution_count": 2,
   "metadata": {},
   "outputs": [],
   "source": [
    "import numpy as np\n",
    "import os\n",
    "from random import randrange\n",
    "from matplotlib import pyplot as plt\n",
    "from PIL import Image\n",
    "import matplotlib.pyplot as plt\n",
    "from sklearn.neighbors import KNeighborsClassifier\n",
    "from sklearn.model_selection import train_test_split\n",
    "from sklearn.metrics import accuracy_score\n",
    "import csv\n",
    "from sklearn.preprocessing import LabelEncoder\n",
    "from scipy.stats import multivariate_normal\n",
    "from scipy.cluster.hierarchy import dendrogram, linkage\n",
    "from sklearn.decomposition import PCA\n",
    "import cv2\n",
    "import math\n",
    "import pickle\n",
    "from sklearn.datasets import load_wine\n",
    "from sklearn.mixture import GaussianMixture\n",
    "from sklearn.cluster import KMeans\n",
    "from sklearn.metrics import silhouette_score\n",
    "from sklearn.decomposition import PCA\n",
    "import pandas as pd\n",
    "from sklearn.preprocessing import MinMaxScaler, StandardScaler\n",
    "from sklearn.impute import SimpleImputer\n",
    "from sklearn.metrics import classification_report\n",
    "from more_itertools import powerset\n",
    "import wandb\n",
    "from sklearn.tree import DecisionTreeClassifier\n",
    "from sklearn.tree import DecisionTreeRegressor\n",
    "from sklearn.linear_model import LinearRegression\n",
    "from sklearn.metrics import mean_squared_error, r2_score\n",
    "import itertools\n",
    "import random\n",
    "import time\n",
    "from sklearn.metrics import confusion_matrix\n",
    "import seaborn as sns\n",
    "label_encoder = LabelEncoder()\n",
    "imputer = SimpleImputer(strategy='mean')\n",
    "scaler_minmax = MinMaxScaler()\n",
    "scaler_standard = StandardScaler()"
   ]
  },
  {
   "cell_type": "code",
   "execution_count": 3,
   "metadata": {},
   "outputs": [],
   "source": [
    "def relu(x):\n",
    "    return np.maximum(0, x)\n",
    "\n",
    "def relu_derivative(x):\n",
    "    return (x > 0).astype(float)\n",
    "\n",
    "def sigmoid(x):\n",
    "    return 1 / (1 + np.exp(-1 * x))\n",
    "\n",
    "def sigmoid_derivative(x):\n",
    "    return x * (1 - x)\n",
    "\n",
    "def tanh(x):\n",
    "    return np.tanh(x)\n",
    "\n",
    "def tanh_derivative(x):\n",
    "    return 1 - x**2\n",
    "\n",
    "def softmax(z):\n",
    "    exp_z = np.exp(z - np.max(z, axis=1, keepdims=True))\n",
    "    return exp_z / np.sum(exp_z, axis=1, keepdims=True)"
   ]
  },
  {
   "cell_type": "code",
   "execution_count": 4,
   "metadata": {},
   "outputs": [],
   "source": [
    "class DecisionTreeClassifierClass:\n",
    "    def __init__(self, test_size=0.2, random_state=42):\n",
    "        self.test_size = test_size\n",
    "        self.random_state = random_state\n",
    "\n",
    "    def preprocess_data(self, X, y):\n",
    "        X_train, X_test, y_train, y_test = train_test_split(X, y, test_size=self.test_size, random_state=self.random_state)\n",
    "        imputer = SimpleImputer(strategy='mean')\n",
    "        X_train = imputer.fit_transform(X_train)\n",
    "        X_test = imputer.transform(X_test)\n",
    "        return X_train, X_test, y_train, y_test\n",
    "\n",
    "    def train_model(self, X_train, y_train):\n",
    "        clf = DecisionTreeClassifier(random_state=self.random_state)\n",
    "        clf.fit(X_train, y_train)\n",
    "        return clf\n",
    "    \n",
    "    def predict(self, model, X_test):\n",
    "        return model.predict(X_test)\n",
    "\n",
    "    def evaluate_model(self, y_test, y_pred):\n",
    "        accuracy = accuracy_score(y_test, y_pred)\n",
    "        classification_rep = classification_report(y_test, y_pred, zero_division=1.0)\n",
    "        return accuracy, classification_rep\n",
    "\n",
    "    def fit(self, X, y):\n",
    "        X_train, X_test, y_train, y_test = self.preprocess_data(X, y)\n",
    "        model = self.train_model(X_train, y_train)\n",
    "        accuracy, classification_rep = self.evaluate_model(model, X_test, y_test)\n",
    "        return model, accuracy, classification_rep"
   ]
  },
  {
   "cell_type": "code",
   "execution_count": 5,
   "metadata": {},
   "outputs": [],
   "source": [
    "class Logisitic_Regression:\n",
    "    def multinomial_logistic_regression(self, data_x, data_y, loss_function, optimization_algorithm, gamma, number_of_epochs, threshold):\n",
    "        if loss_function != \"cross_entropy\" and optimization_algorithm != \"gradient_decsent\":\n",
    "            return\n",
    "        number_of_features = len(data_x.columns)\n",
    "        number_of_data_points = len(data_x)\n",
    "        classes = np.unique(data_y)\n",
    "        class_to_one_hot = {element: index for index, element in enumerate(classes)}\n",
    "        number_of_classes = len(np.unique(data_y))\n",
    "        weights = np.random.rand(number_of_features, number_of_classes)\n",
    "        prev_loss = 0\n",
    "        for epoch in range(0, number_of_epochs):\n",
    "            scores = np.dot(weights.T, data_x.T).T\n",
    "            y_pred = softmax(scores)\n",
    "            total_loss = 0\n",
    "            for i in range(0, number_of_data_points):\n",
    "                total_loss += -1 * np.log(y_pred[i, class_to_one_hot[data_y[i]]])\n",
    "            if abs(total_loss - prev_loss) < threshold:\n",
    "                return weights\n",
    "            prev_loss = total_loss\n",
    "            loss_gradient = y_pred\n",
    "            for i in range(0, number_of_data_points):\n",
    "                loss_gradient[i, class_to_one_hot[data_y[i]]] -= 1\n",
    "            gradient = []\n",
    "            for i in range(0, number_of_classes):\n",
    "                grad = 0\n",
    "                for j in range(0, number_of_data_points):\n",
    "                    grad += loss_gradient[j, i] * data_x.values[j]\n",
    "                gradient.append(grad)\n",
    "            gradient = np.vstack(gradient).T\n",
    "            weights -= gamma * gradient\n",
    "        # scores = np.dot(weights.T, val_x.T).T\n",
    "        # y_pred = softmax(scores)\n",
    "        # report = classification_report(val_y, np.argmax(y_pred, axis=1) + 3, zero_division=1.0)\n",
    "        return weights\n",
    "\n",
    "    def train_model(self, x_train, y_train):\n",
    "        return self.multinomial_logistic_regression(x_train, y_train.values, \"cross_entropy\", \"gradient_descent\", 0.001, 1000, 1e-3)\n",
    "\n",
    "    def predict(self, weights, x_test):\n",
    "        scores = np.dot(weights.T, x_test.T).T\n",
    "        y_pred = softmax(scores)\n",
    "        y_pred = np.argmax(y_pred, axis=1) + 3\n",
    "        return y_pred\n",
    "\n",
    "    def evaluate_model(self, y_test, y_pred):\n",
    "        accuracy = accuracy_score(y_test, y_pred)\n",
    "        classification_rep = classification_report(y_test, y_pred, zero_division=1.0)\n",
    "        return accuracy, classification_rep"
   ]
  },
  {
   "cell_type": "code",
   "execution_count": 6,
   "metadata": {},
   "outputs": [],
   "source": [
    "class Mlp_Classification:\n",
    "    def multi_layer_perceptron_classification(self, data_x, data_y, learning_rate, activation_function, optimizer, number_of_hidden_layers, number_of_neurons_per_layer, number_of_epochs, batch_size):\n",
    "        number_of_features = len(data_x.columns)\n",
    "        number_of_data_points = len(data_x)\n",
    "        classes = np.unique(data_y)\n",
    "        class_to_one_hot = {element: index for index, element in enumerate(classes)}\n",
    "        number_of_classes = len(np.unique(data_y))\n",
    "\n",
    "        if optimizer == \"stochastic gradient descent\":\n",
    "            batch_size = 1\n",
    "        if optimizer == \"batch\":\n",
    "            batch_size = number_of_data_points\n",
    "\n",
    "        weights = []\n",
    "        biases = []\n",
    "        weights.append(np.random.randn(number_of_features, number_of_neurons_per_layer[0]))\n",
    "        biases.append(np.zeros((1, number_of_neurons_per_layer[0])))\n",
    "        for i in range(1, number_of_hidden_layers):\n",
    "            weights.append(np.random.randn(number_of_neurons_per_layer[i-i], number_of_neurons_per_layer[i]))\n",
    "            biases.append(np.zeros((1, number_of_neurons_per_layer[i])))\n",
    "        weights.append(np.random.randn(number_of_neurons_per_layer[number_of_hidden_layers - 1], number_of_classes))\n",
    "        biases.append(np.zeros((1, number_of_classes)))\n",
    "\n",
    "        y_one_hot = []\n",
    "        for i in range(0, len(data_y)):\n",
    "            result_array = np.zeros(number_of_classes)\n",
    "            result_array[class_to_one_hot[data_y[i]]] = 1\n",
    "            y_one_hot.append(result_array)\n",
    "        y_one_hot = np.array(y_one_hot)\n",
    "\n",
    "\n",
    "        train_loss_per_epoch = []\n",
    "        accuracy_per_epoch = []\n",
    "\n",
    "\n",
    "        for epoch in range(0, number_of_epochs):\n",
    "            # print(epoch)\n",
    "            indices = np.arange(len(data_x))\n",
    "            np.random.shuffle(indices)\n",
    "            total_batches = len(data_x) // batch_size\n",
    "            batched_indices = np.array_split(indices, total_batches)\n",
    "            x_batches = [data_x.values[idx] for idx in batched_indices]\n",
    "            y_batches = [y_one_hot[idx] for idx in batched_indices]\n",
    "            for h in range(total_batches):\n",
    "                data_x_batch = x_batches[h]\n",
    "                data_y_batch = y_batches[h]\n",
    "\n",
    "                outputs = []\n",
    "                hidden_output = data_x_batch\n",
    "                outputs.append(hidden_output)\n",
    "                for i in range(0, number_of_hidden_layers):\n",
    "                    hidden_input = np.dot(hidden_output, weights[i]) + biases[i]\n",
    "                    if activation_function == \"relu\":\n",
    "                        hidden_output = relu(hidden_input)\n",
    "                    elif activation_function == \"tanh\":\n",
    "                        hidden_output = tanh(hidden_input)\n",
    "                    elif activation_function == \"sigmoid\":\n",
    "                        hidden_output = sigmoid(hidden_input)\n",
    "                    else:\n",
    "                        return\n",
    "                    outputs.append(hidden_output)\n",
    "                hidden_input = np.dot(hidden_output, weights[number_of_hidden_layers]) + biases[number_of_hidden_layers]\n",
    "                hidden_output = hidden_input\n",
    "                outputs.append(hidden_output)\n",
    "                probabilities = softmax(outputs[-1])\n",
    "\n",
    "                errors = []\n",
    "                errors.append((data_y_batch - probabilities))\n",
    "                for i in range(1, number_of_hidden_layers + 1):\n",
    "                    if activation_function == \"relu\":\n",
    "                        errors.append(errors[i - 1].dot(weights[number_of_hidden_layers - i + 1].T) * relu_derivative(outputs[number_of_hidden_layers + 1 - i]))\n",
    "                    elif activation_function == \"tanh\":\n",
    "                        errors.append((errors[i - 1].dot(weights[number_of_hidden_layers - i + 1].T)) * tanh_derivative(outputs[number_of_hidden_layers + 1 - i]))\n",
    "                    elif activation_function == \"sigmoid\":\n",
    "                        errors.append(errors[i - 1].dot(weights[number_of_hidden_layers - i + 1].T) * sigmoid_derivative(outputs[number_of_hidden_layers + 1 - i]))\n",
    "                    else:\n",
    "                        return\n",
    "                \n",
    "                for i in range(0, number_of_hidden_layers + 1):\n",
    "                    weights[number_of_hidden_layers - i] += outputs[number_of_hidden_layers - i].T.dot(errors[i]) * learning_rate / (len(data_x_batch))\n",
    "                    biases[number_of_hidden_layers - i] += np.sum(errors[i], axis=0, keepdims=True) * learning_rate / (len(data_x_batch))\n",
    "\n",
    "\n",
    "            # hidden_output = data_x.values\n",
    "            # for i in range(0, number_of_hidden_layers):\n",
    "            #     hidden_input = np.dot(hidden_output, weights[i]) + biases[i]\n",
    "            #     if activation_function == \"relu\":\n",
    "            #         hidden_output = relu(hidden_input)\n",
    "            #     elif activation_function == \"tanh\":\n",
    "            #         hidden_output = tanh(hidden_input)\n",
    "            #     elif activation_function == \"sigmoid\":\n",
    "            #         hidden_output = sigmoid(hidden_input)\n",
    "            #     else:\n",
    "            #         return\n",
    "            # hidden_input = np.dot(hidden_output, weights[number_of_hidden_layers]) + biases[number_of_hidden_layers]\n",
    "            # hidden_output = hidden_input\n",
    "            # probabilities = softmax(hidden_output)\n",
    "            # predicted_labels = np.argmax(probabilities, axis=1)\n",
    "            # accuracy = accuracy_score(data_y, predicted_labels + 3)\n",
    "            # accuracy_per_epoch.append(accuracy)\n",
    "            # # print(np.mean(np.diagonal(-1 * (np.dot(y_one_hot, np.log(probabilities).T)))))\n",
    "            # train_loss_per_epoch.append(np.mean(np.diagonal(-1 * (np.dot(y_one_hot, np.log(probabilities).T)))))\n",
    "\n",
    "\n",
    "        return weights, biases, train_loss_per_epoch, accuracy_per_epoch\n",
    "\n",
    "    def train_model(self, x_train, y_train):\n",
    "        np.random.seed(42)\n",
    "        number_of_hidden_layers = 2\n",
    "        weights, biases, train_loss_per_epoch, accuracy_per_epoch = self.multi_layer_perceptron_classification(x_train, y_train.values, 0.01, \"relu\", \"mini-batch\", number_of_hidden_layers, [6, 6], 1000, 32)\n",
    "        return [weights, biases]\n",
    "    \n",
    "    def predict(self, model, x_test):\n",
    "        weights = model[0]\n",
    "        biases = model[1]\n",
    "        number_of_hidden_layers = 2\n",
    "        outputs = []\n",
    "        hidden_output = x_test.values\n",
    "        outputs.append(hidden_output)\n",
    "        for i in range(0, number_of_hidden_layers + 1):\n",
    "            hidden_input = np.dot(hidden_output, weights[i]) + biases[i]\n",
    "            hidden_output = relu(hidden_input)\n",
    "            outputs.append(hidden_output)\n",
    "        probabilities = softmax(outputs[-1])\n",
    "        predicted_labels = np.argmax(probabilities, axis=1)\n",
    "        return predicted_labels\n",
    "\n",
    "    def evaluate_model(self, y_test, predicted_labels):\n",
    "        accuracy = accuracy_score(y_test, predicted_labels + 3)\n",
    "        classification_rep = classification_report(y_test, predicted_labels + 3, zero_division=1.0)\n",
    "        return accuracy, classification_rep"
   ]
  },
  {
   "cell_type": "code",
   "execution_count": 7,
   "metadata": {},
   "outputs": [],
   "source": [
    "class DecisionTreeRegressionClass:\n",
    "    def __init__(self, test_size=0.2, random_state=42):\n",
    "        self.test_size = test_size\n",
    "        self.random_state = random_state\n",
    "        self.model = None\n",
    "\n",
    "    def preprocess_data(self, X, y):\n",
    "        X_train, X_test, y_train, y_test = train_test_split(X, y, test_size=self.test_size, random_state=self.random_state)\n",
    "        scaler = StandardScaler()\n",
    "        X_train = scaler.fit_transform(X_train)\n",
    "        X_test = scaler.transform(X_test)\n",
    "        imputer = SimpleImputer(strategy='mean')\n",
    "        X_train = imputer.fit_transform(X_train)\n",
    "        X_test = imputer.transform(X_test)\n",
    "        return X_train, X_test, y_train, y_test\n",
    "\n",
    "    def train_model(self, X_train, y_train):\n",
    "        model = DecisionTreeRegressor(random_state=self.random_state)\n",
    "        model.fit(X_train, y_train)\n",
    "        return model\n",
    "    \n",
    "    def predict(self, model, X_test):\n",
    "        return model.predict(X_test)\n",
    "\n",
    "    def evaluate_model(self, y_test, y_pred):\n",
    "        mse = mean_squared_error(y_test, y_pred)\n",
    "        return mse\n",
    "\n",
    "    def fit(self, X, y):\n",
    "        X_train, X_test, y_train, y_test = self.preprocess_data(X, y)\n",
    "        model = self.train_model(X_train, y_train)\n",
    "        mse, r2 = self.evaluate_model(model, X_test, y_test)\n",
    "        return mse, r2"
   ]
  },
  {
   "cell_type": "code",
   "execution_count": 8,
   "metadata": {},
   "outputs": [],
   "source": [
    "class LinearRegressionClass:\n",
    "    def __init__(self, test_size=0.2, random_state=42):\n",
    "        self.test_size = test_size\n",
    "        self.random_state = random_state\n",
    "        # self.epochs = 100\n",
    "\n",
    "    def preprocess_data(self, X, y):\n",
    "        X_train, X_test, y_train, y_test = train_test_split(X, y, test_size=self.test_size, random_state=self.random_state)\n",
    "        scaler = StandardScaler()\n",
    "        X_train = scaler.fit_transform(X_train)\n",
    "        X_test = scaler.transform(X_test)\n",
    "        imputer = SimpleImputer(strategy='mean')\n",
    "        X_train = imputer.fit_transform(X_train)\n",
    "        X_test = imputer.transform(X_test)\n",
    "        return X_train, X_test, y_train, y_test\n",
    "\n",
    "    def train_model(self, X_train, y_train):\n",
    "        model = LinearRegression()\n",
    "        model.fit(X_train, y_train)\n",
    "        return model\n",
    "        # self.weights = np.zeros((X_train.shape[1], 1))\n",
    "        # self.bias = 0\n",
    "        # for epoch in range(self.epochs):\n",
    "        #     y_pred = np.dot(X_train, self.weights) + self.bias\n",
    "        #     dw = (1/X_train.shape[0]) * np.dot(X_train.T, (y_pred - y_train))\n",
    "        #     db = (1/X_train.shape[0]) * np.sum(y_pred - y_train)\n",
    "        #     self.weights -= self.learning_rate * dw\n",
    "        #     self.bias -= self.learning_rate * db\n",
    "    \n",
    "    def predict(self, model, X_test):\n",
    "        return model.predict(X_test)\n",
    "        # X_test = np.column_stack((np.ones(X_test.shape[0]), X_test))\n",
    "        # return np.dot(X_test, self.weights) + self.bias\n",
    "\n",
    "    def evaluate_model(self, y_test, y_pred):\n",
    "        mse = mean_squared_error(y_test, y_pred)\n",
    "        return mse\n",
    "\n",
    "    def fit(self, X, y):\n",
    "        X_train, X_test, y_train, y_test = self.preprocess_data(X, y)\n",
    "        model = self.train_model(X_train, y_train)\n",
    "        mse, r2 = self.evaluate_model(model, X_test, y_test)\n",
    "        return model, mse, r2"
   ]
  },
  {
   "cell_type": "code",
   "execution_count": 9,
   "metadata": {},
   "outputs": [],
   "source": [
    "class Mlp_Regression():\n",
    "    def multi_layer_perceptron_regression(self, data_x, data_y, learning_rate, activation_function, optimizer, number_of_hidden_layers, number_of_neurons_per_layer, number_of_epochs, batch_size):\n",
    "        number_of_features = len(data_x.columns)\n",
    "        number_of_data_points = len(data_x)\n",
    "        number_of_classes = 1\n",
    "        \n",
    "        data_y = data_y.reshape(number_of_data_points, 1)\n",
    "\n",
    "        if optimizer == \"stochastic gradient descent\":\n",
    "            batch_size = 1\n",
    "        if optimizer == \"batch\":\n",
    "            batch_size = number_of_data_points\n",
    "\n",
    "        weights = []\n",
    "        biases = []\n",
    "        weights.append(np.random.randn(number_of_features, number_of_neurons_per_layer[0]))\n",
    "        biases.append(np.zeros((1, number_of_neurons_per_layer[0])))\n",
    "        for i in range(1, number_of_hidden_layers):\n",
    "            weights.append(np.random.randn(number_of_neurons_per_layer[i-i], number_of_neurons_per_layer[i]))\n",
    "            biases.append(np.zeros((1, number_of_neurons_per_layer[i])))\n",
    "        weights.append(np.random.randn(number_of_neurons_per_layer[number_of_hidden_layers - 1], number_of_classes))\n",
    "        biases.append(np.zeros((1, number_of_classes)))\n",
    "\n",
    "        train_loss_per_epoch = []\n",
    "\n",
    "        for epoch in range(0, number_of_epochs):\n",
    "            # print(epoch)\n",
    "            indices = np.arange(len(data_x))\n",
    "            np.random.shuffle(indices)\n",
    "            total_batches = len(data_x) // batch_size\n",
    "            batched_indices = np.array_split(indices, total_batches)\n",
    "            x_batches = [data_x.values[idx] for idx in batched_indices]\n",
    "            y_batches = [data_y[idx] for idx in batched_indices]\n",
    "            for h in range(total_batches):\n",
    "                data_x_batch = x_batches[h]\n",
    "                data_y_batch = y_batches[h]\n",
    "\n",
    "                outputs = []\n",
    "                hidden_output = data_x_batch\n",
    "                outputs.append(hidden_output)\n",
    "                for i in range(0, number_of_hidden_layers):\n",
    "                    hidden_input = np.dot(hidden_output, weights[i]) + biases[i]\n",
    "                    if activation_function == \"relu\":\n",
    "                        hidden_output = relu(hidden_input)\n",
    "                    elif activation_function == \"tanh\":\n",
    "                        hidden_output = tanh(hidden_input)\n",
    "                    elif activation_function == \"sigmoid\":\n",
    "                        hidden_output = sigmoid(hidden_input)\n",
    "                    else:\n",
    "                        return\n",
    "                    outputs.append(hidden_output)\n",
    "                hidden_input = np.dot(hidden_output, weights[number_of_hidden_layers]) + biases[number_of_hidden_layers]\n",
    "                hidden_output = hidden_input\n",
    "                outputs.append(hidden_output)\n",
    "\n",
    "                errors = []\n",
    "                errors.append((data_y_batch - outputs[number_of_hidden_layers + 1]) * 2)\n",
    "                for i in range(1, number_of_hidden_layers + 1):\n",
    "                    if activation_function == \"relu\":\n",
    "                        errors.append(errors[i - 1].dot(weights[number_of_hidden_layers - i + 1].T) * relu_derivative(outputs[number_of_hidden_layers + 1 - i]))\n",
    "                    elif activation_function == \"tanh\":\n",
    "                        errors.append((errors[i - 1].dot(weights[number_of_hidden_layers - i + 1].T)) * tanh_derivative(outputs[number_of_hidden_layers + 1 - i]))\n",
    "                    elif activation_function == \"sigmoid\":\n",
    "                        errors.append(errors[i - 1].dot(weights[number_of_hidden_layers - i + 1].T) * sigmoid_derivative(outputs[number_of_hidden_layers + 1 - i]))\n",
    "                    else:\n",
    "                        return\n",
    "\n",
    "                for i in range(0, number_of_hidden_layers + 1):\n",
    "                    weights[number_of_hidden_layers - i] += outputs[number_of_hidden_layers - i].T.dot(errors[i]) * learning_rate / (len(data_x_batch))\n",
    "                    biases[number_of_hidden_layers - i] += np.sum(errors[i], axis=0, keepdims=True) * learning_rate / (len(data_x_batch))\n",
    "\n",
    "            # hidden_output = data_x.values\n",
    "            # for i in range(0, number_of_hidden_layers):\n",
    "            #     hidden_input = np.dot(hidden_output, weights[i]) + biases[i]\n",
    "            #     if activation_function == \"relu\":\n",
    "            #         hidden_output = relu(hidden_input)\n",
    "            #     elif activation_function == \"tanh\":\n",
    "            #         hidden_output = tanh(hidden_input)\n",
    "            #     elif activation_function == \"sigmoid\":\n",
    "            #         hidden_output = sigmoid(hidden_input)\n",
    "            #     else:\n",
    "            #         return\n",
    "            # hidden_input = np.dot(hidden_output, weights[number_of_hidden_layers]) + biases[number_of_hidden_layers]\n",
    "            # hidden_output = hidden_input\n",
    "            # print(np.mean((data_y - hidden_output)**2))\n",
    "            # train_loss_per_epoch.append(np.mean((data_y - hidden_output)**2))\n",
    "\n",
    "\n",
    "        return weights, biases, train_loss_per_epoch\n",
    "\n",
    "    def train_model(self, x_train, y_train):\n",
    "        np.random.seed(42)\n",
    "        number_of_hidden_layers = 2\n",
    "        activation_function = \"tanh\"\n",
    "        weights, biases, train_loss_per_epoch = self.multi_layer_perceptron_regression(x_train, y_train.values, 0.0001, activation_function, \"mini-batch\", number_of_hidden_layers, [6, 6], 1000, 8)\n",
    "        return [weights, biases]\n",
    "    \n",
    "    def predict(self, model, x_test):\n",
    "        number_of_hidden_layers = 2\n",
    "        activation_function = \"tanh\"\n",
    "        weights = model[0]\n",
    "        biases = model [1]\n",
    "        hidden_output = x_test.values\n",
    "        for i in range(0, number_of_hidden_layers):\n",
    "            hidden_input = np.dot(hidden_output, weights[i]) + biases[i]\n",
    "            if activation_function == \"relu\":\n",
    "                hidden_output = relu(hidden_input)\n",
    "            elif activation_function == \"tanh\":\n",
    "                hidden_output = tanh(hidden_input)\n",
    "            elif activation_function == \"sigmoid\":\n",
    "                hidden_output = sigmoid(hidden_input)\n",
    "        hidden_input = np.dot(hidden_output, weights[number_of_hidden_layers]) + biases[number_of_hidden_layers]\n",
    "        hidden_output = hidden_input\n",
    "        return hidden_output\n",
    "\n",
    "    def evaluate_model(self, y_test, hidden_output):\n",
    "        loss = np.mean((y_test.values[:, np.newaxis] - hidden_output)**2)\n",
    "        return loss"
   ]
  },
  {
   "cell_type": "code",
   "execution_count": 59,
   "metadata": {},
   "outputs": [],
   "source": [
    "df = pd.read_csv('./WineQT.csv')\n",
    "statistics = df.describe()\n",
    "data_standardized = df\n",
    "features = data_standardized.columns.difference([\"quality\", \"Id\"])\n",
    "x_train, x_test, y_train, y_test = train_test_split(data_standardized[features], df[\"quality\"], test_size=0.2, random_state=42)\n",
    "x_train.fillna(x_train.mean(), inplace=True) \n",
    "x_test.fillna (x_test.mean(), inplace=True)\n",
    "std_scaler = StandardScaler() \n",
    "x_train = std_scaler.fit_transform(x_train)\n",
    "x_test = std_scaler.transform(x_test)\n",
    "x_train = pd.DataFrame(x_train)\n",
    "x_test = pd.DataFrame(x_test)"
   ]
  },
  {
   "cell_type": "code",
   "execution_count": 60,
   "metadata": {},
   "outputs": [
    {
     "name": "stdout",
     "output_type": "stream",
     "text": [
      "0.5327510917030568\n",
      "              precision    recall  f1-score   support\n",
      "\n",
      "           3       0.00      1.00      0.00         0\n",
      "           4       0.11      0.17      0.13         6\n",
      "           5       0.61      0.58      0.60        96\n",
      "           6       0.54      0.52      0.53        99\n",
      "           7       0.45      0.50      0.47        26\n",
      "           8       1.00      0.50      0.67         2\n",
      "\n",
      "    accuracy                           0.53       229\n",
      "   macro avg       0.45      0.54      0.40       229\n",
      "weighted avg       0.55      0.53      0.54       229\n",
      "\n"
     ]
    }
   ],
   "source": [
    "model_type = DecisionTreeClassifierClass()\n",
    "model = model_type.train_model(x_train, y_train)\n",
    "model = model_type.predict(model, x_test)\n",
    "accuracy, classification_rep = model_type.evaluate_model(y_test, model)\n",
    "print(accuracy)\n",
    "print(classification_rep)"
   ]
  },
  {
   "cell_type": "code",
   "execution_count": 61,
   "metadata": {},
   "outputs": [
    {
     "name": "stdout",
     "output_type": "stream",
     "text": [
      "0.5720524017467249\n",
      "              precision    recall  f1-score   support\n",
      "\n",
      "           3       0.00      1.00      0.00         0\n",
      "           4       0.00      0.00      1.00         6\n",
      "           5       0.69      0.75      0.72        96\n",
      "           6       0.59      0.44      0.51        99\n",
      "           7       0.36      0.58      0.44        26\n",
      "           8       0.00      0.00      1.00         2\n",
      "\n",
      "    accuracy                           0.57       229\n",
      "   macro avg       0.27      0.46      0.61       229\n",
      "weighted avg       0.58      0.57      0.61       229\n",
      "\n"
     ]
    }
   ],
   "source": [
    "model_type = Logisitic_Regression()\n",
    "model = model_type.train_model(x_train, y_train)\n",
    "model = model_type.predict(model, x_test)\n",
    "accuracy, classification_rep = model_type.evaluate_model(y_test, model)\n",
    "print(accuracy)\n",
    "print(classification_rep)"
   ]
  },
  {
   "cell_type": "code",
   "execution_count": 62,
   "metadata": {},
   "outputs": [
    {
     "name": "stdout",
     "output_type": "stream",
     "text": [
      "0.6069868995633187\n",
      "              precision    recall  f1-score   support\n",
      "\n",
      "           4       1.00      0.00      0.00         6\n",
      "           5       0.65      0.73      0.69        96\n",
      "           6       0.58      0.63      0.60        99\n",
      "           7       0.47      0.27      0.34        26\n",
      "           8       1.00      0.00      0.00         2\n",
      "\n",
      "    accuracy                           0.61       229\n",
      "   macro avg       0.74      0.32      0.33       229\n",
      "weighted avg       0.61      0.61      0.59       229\n",
      "\n"
     ]
    }
   ],
   "source": [
    "model_type = Mlp_Classification()\n",
    "model = model_type.train_model(x_train, y_train)\n",
    "model = model_type.predict(model, x_test)\n",
    "model = model.reshape(-1,)\n",
    "accuracy, classification_rep = model_type.evaluate_model(y_test, model)\n",
    "print(accuracy)\n",
    "print(classification_rep)"
   ]
  },
  {
   "cell_type": "code",
   "execution_count": 63,
   "metadata": {},
   "outputs": [],
   "source": [
    "df = pd.read_csv('./HousingData.csv')\n",
    "statistics = df.describe()\n",
    "data_standardized = df\n",
    "features = data_standardized.columns.difference([\"MEDV\"])\n",
    "x_train, x_test, y_train, y_test = train_test_split(data_standardized[features], data_standardized[\"MEDV\"], test_size=0.2, random_state=42)\n",
    "x_train.fillna(x_train.mean(), inplace=True) \n",
    "x_test.fillna (x_test.mean(), inplace=True)\n",
    "std_scaler = StandardScaler() \n",
    "x_train = std_scaler.fit_transform(x_train)\n",
    "x_test = std_scaler.transform(x_test)\n",
    "x_train = pd.DataFrame(x_train)\n",
    "x_test = pd.DataFrame(x_test)"
   ]
  },
  {
   "cell_type": "code",
   "execution_count": 64,
   "metadata": {},
   "outputs": [
    {
     "name": "stdout",
     "output_type": "stream",
     "text": [
      "25.98235294117647\n"
     ]
    }
   ],
   "source": [
    "model_type = DecisionTreeRegressionClass()\n",
    "model = model_type.train_model(x_train, y_train)\n",
    "model = model_type.predict(model, x_test)\n",
    "mse = model_type.evaluate_model(y_test, model)\n",
    "print(mse)"
   ]
  },
  {
   "cell_type": "code",
   "execution_count": 65,
   "metadata": {},
   "outputs": [
    {
     "name": "stdout",
     "output_type": "stream",
     "text": [
      "25.056114338834035\n"
     ]
    }
   ],
   "source": [
    "model_type = LinearRegressionClass()\n",
    "model = model_type.train_model(x_train, y_train)\n",
    "model = model_type.predict(model, x_test)\n",
    "mse = model_type.evaluate_model(y_test, model)\n",
    "print(mse)"
   ]
  },
  {
   "cell_type": "code",
   "execution_count": 66,
   "metadata": {},
   "outputs": [
    {
     "name": "stdout",
     "output_type": "stream",
     "text": [
      "17.621713731340847\n"
     ]
    }
   ],
   "source": [
    "model_type = Mlp_Regression()\n",
    "model = model_type.train_model(x_train, y_train)\n",
    "model = model_type.predict(model, x_test)\n",
    "mse = model_type.evaluate_model(y_test, model)\n",
    "print(mse)"
   ]
  },
  {
   "cell_type": "code",
   "execution_count": 9,
   "metadata": {},
   "outputs": [],
   "source": [
    "def bagging_classification(base_model, n_estimators, samples, bootstrap, voting):\n",
    "    df = pd.read_csv('./WineQT.csv')\n",
    "    data_standardized = df\n",
    "    features = data_standardized.columns.difference([\"quality\", \"Id\"])\n",
    "    x_train, x_temp, y_train, y_temp = train_test_split(data_standardized[features], df[\"quality\"], test_size=0.4, random_state=42)\n",
    "    x_val, x_test, y_val, y_test = train_test_split(x_temp, y_temp, test_size=0.5, random_state=42)\n",
    "    x_train.fillna(x_train.mean(), inplace=True) \n",
    "    x_val.fillna(x_val.mean(), inplace=True) \n",
    "    x_test.fillna (x_test.mean(), inplace=True)\n",
    "    std_scaler = StandardScaler() \n",
    "    x_train = std_scaler.fit_transform(x_train)\n",
    "    x_val = std_scaler.transform(x_val)\n",
    "    x_test = std_scaler.transform(x_test)\n",
    "    x_train = pd.DataFrame(x_train)\n",
    "    x_val = pd.DataFrame(x_val)\n",
    "    x_test = pd.DataFrame(x_test)\n",
    "    length = len(x_train)\n",
    "\n",
    "    ensemble_predictions = []\n",
    "    ensemble_accuracies = []\n",
    "    for _ in range(n_estimators):\n",
    "        if bootstrap:\n",
    "            sample_indices = np.random.choice(length, size=int(samples * length), replace=True)\n",
    "        else:\n",
    "            sample_indices = np.random.choice(length, size=int(samples * length), replace=False)\n",
    "        x_sampled = x_train.iloc[sample_indices]\n",
    "        y_sampled = y_train.iloc[sample_indices]\n",
    "        \n",
    "        model_type = base_model()\n",
    "        model = model_type.train_model(x_sampled, y_sampled)\n",
    "        predictions = model_type.predict(model, x_test)\n",
    "        predictions = predictions.reshape(-1,)\n",
    "        ensemble_predictions.append(predictions)\n",
    "        predictions = model_type.predict(model, x_val)\n",
    "        accuracy, classification_rep = model_type.evaluate_model(y_val, predictions)\n",
    "        ensemble_accuracies.append(accuracy)\n",
    "    if voting == 'hard':\n",
    "        final_predictions = np.round(np.mean(ensemble_predictions, axis=0))\n",
    "    else:\n",
    "        ensemble_accuracies /= np.sum(ensemble_accuracies)\n",
    "        final_predictions = ensemble_predictions * ensemble_accuracies[:, np.newaxis]\n",
    "        final_predictions = final_predictions.sum(axis = 0)\n",
    "        final_predictions = np.round(final_predictions.reshape(-1,))\n",
    "    \n",
    "    model_type = base_model()\n",
    "    accuracy, classification_rep = model_type.evaluate_model(y_test, final_predictions)\n",
    "    return accuracy, classification_rep"
   ]
  },
  {
   "cell_type": "code",
   "execution_count": 10,
   "metadata": {},
   "outputs": [],
   "source": [
    "def bagging_regression(base_model, n_estimators, samples, bootstrap, voting):\n",
    "    df = pd.read_csv('./HousingData.csv')\n",
    "    data_standardized = df\n",
    "    features = data_standardized.columns.difference([\"MEDV\"])\n",
    "    x_train, x_temp, y_train, y_temp = train_test_split(data_standardized[features], data_standardized[\"MEDV\"], test_size=0.4, random_state=42)\n",
    "    x_val, x_test, y_val, y_test = train_test_split(x_temp, y_temp, test_size=0.5, random_state=42)\n",
    "    x_train.fillna(x_train.mean(), inplace=True) \n",
    "    x_val.fillna(x_val.mean(), inplace=True) \n",
    "    x_test.fillna (x_test.mean(), inplace=True)\n",
    "    std_scaler = StandardScaler() \n",
    "    x_train = std_scaler.fit_transform(x_train)\n",
    "    x_val = std_scaler.transform(x_val)\n",
    "    x_test = std_scaler.transform(x_test)\n",
    "    x_train = pd.DataFrame(x_train)\n",
    "    x_val = pd.DataFrame(x_val)\n",
    "    x_test = pd.DataFrame(x_test)\n",
    "    length = len(x_train)\n",
    "\n",
    "    ensemble_predictions = []\n",
    "    ensemble_accuracies = []\n",
    "    for _ in range(n_estimators):\n",
    "        if bootstrap:\n",
    "            sample_indices = np.random.choice(length, size=int(samples * length), replace=True)\n",
    "        else:\n",
    "            sample_indices = np.random.choice(length, size=int(samples * length), replace=False)\n",
    "        x_sampled = x_train.iloc[sample_indices]\n",
    "        y_sampled = y_train.iloc[sample_indices]\n",
    "        \n",
    "        model_type = base_model()\n",
    "        model = model_type.train_model(x_sampled, y_sampled)\n",
    "        predictions = model_type.predict(model, x_test)\n",
    "        predictions = predictions.reshape(-1,)\n",
    "        ensemble_predictions.append(predictions)\n",
    "        predictions = model_type.predict(model, x_val)\n",
    "        mse = model_type.evaluate_model(y_val, predictions)\n",
    "        ensemble_accuracies.append(mse)\n",
    "\n",
    "    if voting == 'hard':\n",
    "        final_predictions = (np.mean(ensemble_predictions, axis=0))\n",
    "    else:\n",
    "        ensemble_accuracies /= np.sum(ensemble_accuracies)\n",
    "        final_predictions = ensemble_predictions * ensemble_accuracies[:, np.newaxis]\n",
    "        final_predictions = final_predictions.sum(axis = 0)\n",
    "        final_predictions = (final_predictions.reshape(-1,))\n",
    "\n",
    "    model_type = base_model()\n",
    "    if base_model == Mlp_Regression:\n",
    "        final_predictions = final_predictions.reshape(-1, 1)\n",
    "    mse = model_type.evaluate_model(y_test, final_predictions)\n",
    "    return mse"
   ]
  },
  {
   "cell_type": "code",
   "execution_count": 11,
   "metadata": {},
   "outputs": [
    {
     "name": "stdout",
     "output_type": "stream",
     "text": [
      "0.5676855895196506               precision    recall  f1-score   support\n",
      "\n",
      "           4       1.00      0.00      0.00         9\n",
      "           5       0.64      0.67      0.65        97\n",
      "           6       0.52      0.59      0.55        93\n",
      "           7       0.48      0.38      0.43        26\n",
      "           8       1.00      0.00      0.00         4\n",
      "\n",
      "    accuracy                           0.57       229\n",
      "   macro avg       0.73      0.33      0.33       229\n",
      "weighted avg       0.59      0.57      0.55       229\n",
      "\n"
     ]
    }
   ],
   "source": [
    "accuracy, classification_rep = bagging_classification(DecisionTreeClassifierClass, 15, 0.6, True, 'soft')\n",
    "print(accuracy, classification_rep)"
   ]
  },
  {
   "cell_type": "code",
   "execution_count": 14,
   "metadata": {},
   "outputs": [
    {
     "name": "stdout",
     "output_type": "stream",
     "text": [
      "0.5152838427947598               precision    recall  f1-score   support\n",
      "\n",
      "           4       0.00      0.00      1.00         9\n",
      "           5       0.62      0.68      0.65        97\n",
      "           6       0.54      0.40      0.46        93\n",
      "           7       0.33      0.58      0.42        26\n",
      "           8       0.00      0.00      1.00         4\n",
      "\n",
      "    accuracy                           0.52       229\n",
      "   macro avg       0.30      0.33      0.71       229\n",
      "weighted avg       0.52      0.52      0.57       229\n",
      "\n"
     ]
    }
   ],
   "source": [
    "accuracy, classification_rep = bagging_classification(Logisitic_Regression, 5, 0.6, False, 'hard')\n",
    "print(accuracy, classification_rep)"
   ]
  },
  {
   "cell_type": "code",
   "execution_count": 17,
   "metadata": {},
   "outputs": [
    {
     "name": "stdout",
     "output_type": "stream",
     "text": [
      "0.5895196506550219               precision    recall  f1-score   support\n",
      "\n",
      "           4       1.00      0.00      0.00         9\n",
      "           5       0.62      0.67      0.64        97\n",
      "           6       0.55      0.65      0.59        93\n",
      "           7       0.67      0.38      0.49        26\n",
      "           8       1.00      0.00      0.00         4\n",
      "\n",
      "    accuracy                           0.59       229\n",
      "   macro avg       0.77      0.34      0.35       229\n",
      "weighted avg       0.62      0.59      0.57       229\n",
      "\n"
     ]
    }
   ],
   "source": [
    "accuracy, classification_rep = bagging_classification(Mlp_Classification, 10, 1, False, 'soft')\n",
    "print(accuracy, classification_rep)"
   ]
  },
  {
   "cell_type": "code",
   "execution_count": 72,
   "metadata": {},
   "outputs": [
    {
     "name": "stdout",
     "output_type": "stream",
     "text": [
      "11.749439385142662\n"
     ]
    }
   ],
   "source": [
    "mse = bagging_regression(DecisionTreeRegressionClass, 12, 0.6, True, 'soft')\n",
    "print(mse)"
   ]
  },
  {
   "cell_type": "code",
   "execution_count": 73,
   "metadata": {},
   "outputs": [
    {
     "name": "stdout",
     "output_type": "stream",
     "text": [
      "25.547676907367883\n"
     ]
    }
   ],
   "source": [
    "mse = bagging_regression(LinearRegressionClass, 15, 0.8, False, 'soft')\n",
    "print(mse)"
   ]
  },
  {
   "cell_type": "code",
   "execution_count": 74,
   "metadata": {},
   "outputs": [
    {
     "name": "stdout",
     "output_type": "stream",
     "text": [
      "23.707802258931334\n"
     ]
    }
   ],
   "source": [
    "mse = bagging_regression(Mlp_Regression, 4, 0.8, False, 'soft')\n",
    "print(mse)"
   ]
  },
  {
   "cell_type": "code",
   "execution_count": 49,
   "metadata": {},
   "outputs": [
    {
     "name": "stdout",
     "output_type": "stream",
     "text": [
      "{'model': <class '__main__.DecisionTreeClassifierClass'>, 'n_e': 10, 'sample': 0.8, 'bs': False, 'voting': 'soft', 'accuracy': 0.6331877729257642}\n"
     ]
    }
   ],
   "source": [
    "min_acc = 0\n",
    "for model in [DecisionTreeClassifierClass, Logisitic_Regression, Mlp_Classification]:\n",
    "    for n_e in [1, 5, 10]:\n",
    "        for samples in [0.6, 0.8]:\n",
    "            for bs in [True, False]:\n",
    "                for voting in ['soft', 'hard']:\n",
    "                    accuracy, classification_rep = bagging_classification(model, n_e, samples, bs, voting)\n",
    "                    if accuracy > min_acc:\n",
    "                        best_model_bagging_classification = {\n",
    "                            'model': model,\n",
    "                            'n_e': n_e,\n",
    "                            'sample': samples,\n",
    "                            'bs': bs,\n",
    "                            'voting': voting,\n",
    "                            'accuracy': accuracy\n",
    "                        }\n",
    "                        min_acc = accuracy\n",
    "print(best_model_bagging_classification)"
   ]
  },
  {
   "cell_type": "code",
   "execution_count": 90,
   "metadata": {},
   "outputs": [
    {
     "name": "stdout",
     "output_type": "stream",
     "text": [
      "{'model': <class '__main__.Logisitic_Regression'>, 'n_e': 5, 'sample': 0.6, 'bs': True, 'voting': 'soft', 'accuracy': 0.5414847161572053}\n"
     ]
    }
   ],
   "source": [
    "min_acc = 0\n",
    "for model in [Logisitic_Regression]:\n",
    "    for n_e in [1, 5, 10]:\n",
    "        for samples in [0.6, 0.8]:\n",
    "            for bs in [True, False]:\n",
    "                for voting in ['soft', 'hard']:\n",
    "                    accuracy, classification_rep = bagging_classification(model, n_e, samples, bs, voting)\n",
    "                    if accuracy > min_acc:\n",
    "                        best_model_bagging_classification = {\n",
    "                            'model': model,\n",
    "                            'n_e': n_e,\n",
    "                            'sample': samples,\n",
    "                            'bs': bs,\n",
    "                            'voting': voting,\n",
    "                            'accuracy': accuracy\n",
    "                        }\n",
    "                        min_acc = accuracy\n",
    "print(best_model_bagging_classification)"
   ]
  },
  {
   "cell_type": "code",
   "execution_count": 91,
   "metadata": {},
   "outputs": [
    {
     "name": "stdout",
     "output_type": "stream",
     "text": [
      "{'model': <class '__main__.Mlp_Classification'>, 'n_e': 1, 'sample': 0.8, 'bs': False, 'voting': 'soft', 'accuracy': 0.5895196506550219}\n"
     ]
    }
   ],
   "source": [
    "min_acc = 0\n",
    "for model in [Mlp_Classification]:\n",
    "    for n_e in [1, 5, 10]:\n",
    "        for samples in [0.6, 0.8]:\n",
    "            for bs in [True, False]:\n",
    "                for voting in ['soft', 'hard']:\n",
    "                    accuracy, classification_rep = bagging_classification(model, n_e, samples, bs, voting)\n",
    "                    if accuracy > min_acc:\n",
    "                        best_model_bagging_classification = {\n",
    "                            'model': model,\n",
    "                            'n_e': n_e,\n",
    "                            'sample': samples,\n",
    "                            'bs': bs,\n",
    "                            'voting': voting,\n",
    "                            'accuracy': accuracy\n",
    "                        }\n",
    "                        min_acc = accuracy\n",
    "print(best_model_bagging_classification)"
   ]
  },
  {
   "cell_type": "code",
   "execution_count": 75,
   "metadata": {},
   "outputs": [
    {
     "name": "stdout",
     "output_type": "stream",
     "text": [
      "{'model': <class '__main__.Mlp_Regression'>, 'n_e': 10, 'sample': 0.8, 'bs': False, 'voting': 'hard', 'mse': 24.89099195970116}\n"
     ]
    }
   ],
   "source": [
    "max_mse = 100\n",
    "for model in [DecisionTreeRegressionClass, LinearRegressionClass, Mlp_Regression]:\n",
    "    for n_e in [1, 5, 10]:\n",
    "        for samples in [0.6, 0.8]:\n",
    "            for bs in [True, False]:\n",
    "                for voting in ['soft', 'hard']:\n",
    "                    mse = bagging_regression(model, n_e, samples, bs, voting)\n",
    "                    if mse < max_mse:\n",
    "                        best_model_bagging_regression = {\n",
    "                            'model': model,\n",
    "                            'n_e': n_e,\n",
    "                            'sample': samples,\n",
    "                            'bs': bs,\n",
    "                            'voting': voting,\n",
    "                            'mse': mse\n",
    "                        }\n",
    "                        min_acc = accuracy\n",
    "print(best_model_bagging_regression)"
   ]
  },
  {
   "cell_type": "code",
   "execution_count": 111,
   "metadata": {},
   "outputs": [
    {
     "data": {
      "image/png": "[encoded data removed]",
      "text/plain": [
       "<Figure size 800x600 with 2 Axes>"
      ]
     },
     "metadata": {},
     "output_type": "display_data"
    }
   ],
   "source": [
    "base_estimator = DecisionTreeClassifierClass\n",
    "\n",
    "# Define values for the number of estimators and the fraction of samples\n",
    "n_estimators_values = [10, 20, 30]\n",
    "max_samples_values = [0.5, 0.7, 0.9]\n",
    "\n",
    "# Create a 2D array to store accuracy values\n",
    "accuracy_values = np.zeros((len(max_samples_values), len(n_estimators_values)))\n",
    "\n",
    "# Loop through different values for the number of estimators and max samples\n",
    "for i, n_estimators in enumerate(n_estimators_values):\n",
    "    for j, max_samples in enumerate(max_samples_values):\n",
    "        # Create the BaggingClassifier\n",
    "        bagging_model = bagging_classification(base_estimator, n_estimators, max_samples, False, 'soft')\n",
    "        accuracy_values[j, i] = bagging_model[0]\n",
    "\n",
    "# Plotting the heatmap\n",
    "plt.figure(figsize=(8, 6))\n",
    "plt.imshow(accuracy_values, interpolation='nearest', cmap=plt.cm.hot)\n",
    "plt.title('Accuracy Heatmap for Bagging Classifier')\n",
    "plt.xlabel('Number of Estimators')\n",
    "plt.ylabel('Fraction of Samples')\n",
    "plt.colorbar()\n",
    "\n",
    "# Display the accuracy values on each heatmap cell\n",
    "for i, n_estimators in enumerate(n_estimators_values):\n",
    "    for j, max_samples in enumerate(max_samples_values):\n",
    "        plt.text(i, j, f'{accuracy_values[j, i]:.3f}', ha='center', va='center', color='black')\n",
    "\n",
    "plt.xticks(np.arange(len(n_estimators_values)), n_estimators_values, rotation=45)\n",
    "plt.yticks(np.arange(len(max_samples_values)), max_samples_values)\n",
    "plt.show()"
   ]
  },
  {
   "cell_type": "code",
   "execution_count": 112,
   "metadata": {},
   "outputs": [
    {
     "data": {
      "image/png": "[encoded data removed]",
      "text/plain": [
       "<Figure size 800x600 with 2 Axes>"
      ]
     },
     "metadata": {},
     "output_type": "display_data"
    }
   ],
   "source": [
    "base_estimator = Logisitic_Regression\n",
    "\n",
    "# Define values for the number of estimators and the fraction of samples\n",
    "n_estimators_values = [10, 20, 30]\n",
    "max_samples_values = [0.5, 0.7, 0.9]\n",
    "\n",
    "# Create a 2D array to store accuracy values\n",
    "accuracy_values = np.zeros((len(max_samples_values), len(n_estimators_values)))\n",
    "\n",
    "# Loop through different values for the number of estimators and max samples\n",
    "for i, n_estimators in enumerate(n_estimators_values):\n",
    "    for j, max_samples in enumerate(max_samples_values):\n",
    "        # Create the BaggingClassifier\n",
    "        bagging_model = bagging_classification(base_estimator, n_estimators, max_samples, False, 'soft')\n",
    "        accuracy_values[j, i] = bagging_model[0]\n",
    "\n",
    "# Plotting the heatmap\n",
    "plt.figure(figsize=(8, 6))\n",
    "plt.imshow(accuracy_values, interpolation='nearest', cmap=plt.cm.hot)\n",
    "plt.title('Accuracy Heatmap for Bagging Classifier')\n",
    "plt.xlabel('Number of Estimators')\n",
    "plt.ylabel('Fraction of Samples')\n",
    "plt.colorbar()\n",
    "\n",
    "# Display the accuracy values on each heatmap cell\n",
    "for i, n_estimators in enumerate(n_estimators_values):\n",
    "    for j, max_samples in enumerate(max_samples_values):\n",
    "        plt.text(i, j, f'{accuracy_values[j, i]:.3f}', ha='center', va='center', color='black')\n",
    "\n",
    "plt.xticks(np.arange(len(n_estimators_values)), n_estimators_values, rotation=45)\n",
    "plt.yticks(np.arange(len(max_samples_values)), max_samples_values)\n",
    "plt.show()"
   ]
  },
  {
   "cell_type": "code",
   "execution_count": 113,
   "metadata": {},
   "outputs": [
    {
     "data": {
      "image/png": "[encoded data removed]",
      "text/plain": [
       "<Figure size 800x600 with 2 Axes>"
      ]
     },
     "metadata": {},
     "output_type": "display_data"
    }
   ],
   "source": [
    "base_estimator = Mlp_Classification\n",
    "\n",
    "# Define values for the number of estimators and the fraction of samples\n",
    "n_estimators_values = [10, 20, 30]\n",
    "max_samples_values = [0.5, 0.7, 0.9]\n",
    "\n",
    "# Create a 2D array to store accuracy values\n",
    "accuracy_values = np.zeros((len(max_samples_values), len(n_estimators_values)))\n",
    "\n",
    "# Loop through different values for the number of estimators and max samples\n",
    "for i, n_estimators in enumerate(n_estimators_values):\n",
    "    for j, max_samples in enumerate(max_samples_values):\n",
    "        # Create the BaggingClassifier\n",
    "        bagging_model = bagging_classification(base_estimator, n_estimators, max_samples, False, 'soft')\n",
    "        accuracy_values[j, i] = bagging_model[0]\n",
    "\n",
    "# Plotting the heatmap\n",
    "plt.figure(figsize=(8, 6))\n",
    "plt.imshow(accuracy_values, interpolation='nearest', cmap=plt.cm.hot)\n",
    "plt.title('Accuracy Heatmap for Bagging Classifier')\n",
    "plt.xlabel('Number of Estimators')\n",
    "plt.ylabel('Fraction of Samples')\n",
    "plt.colorbar()\n",
    "\n",
    "# Display the accuracy values on each heatmap cell\n",
    "for i, n_estimators in enumerate(n_estimators_values):\n",
    "    for j, max_samples in enumerate(max_samples_values):\n",
    "        plt.text(i, j, f'{accuracy_values[j, i]:.3f}', ha='center', va='center', color='black')\n",
    "\n",
    "plt.xticks(np.arange(len(n_estimators_values)), n_estimators_values, rotation=45)\n",
    "plt.yticks(np.arange(len(max_samples_values)), max_samples_values)\n",
    "plt.show()"
   ]
  },
  {
   "cell_type": "code",
   "execution_count": 123,
   "metadata": {},
   "outputs": [
    {
     "data": {
      "image/png": "[encoded data removed]",
      "text/plain": [
       "<Figure size 1000x600 with 1 Axes>"
      ]
     },
     "metadata": {},
     "output_type": "display_data"
    }
   ],
   "source": [
    "data1 = [53.27, 57.20, 60.69]\n",
    "data2 = [63.31, 54.14, 58.95]\n",
    "indices = np.arange(len(data1))\n",
    "\n",
    "# Plotting side-by-side histograms\n",
    "plt.figure(figsize=(10, 6))\n",
    "\n",
    "bar_width = 0.35  # Adjust as needed\n",
    "\n",
    "plt.bar(indices, data1, width=bar_width, alpha=0.5, label='Dataset 1', color='blue')\n",
    "plt.bar(indices + bar_width, data2, width=bar_width, alpha=0.5, label='Dataset 2', color='orange')\n",
    "\n",
    "plt.xlabel('Categories')\n",
    "plt.ylabel('Values')\n",
    "plt.title('Side-by-Side Histograms')\n",
    "plt.legend()\n",
    "plt.show()"
   ]
  },
  {
   "cell_type": "code",
   "execution_count": 18,
   "metadata": {},
   "outputs": [],
   "source": [
    "def stacking_classification(level_0_estimators, level_1_estimator, stacking_method, samples):\n",
    "    df = pd.read_csv('./WineQT.csv')\n",
    "    data_standardized = df\n",
    "    features = data_standardized.columns.difference([\"quality\", \"Id\"])\n",
    "    x_train, x_test, y_train, y_test = train_test_split(data_standardized[features], df[\"quality\"], test_size=0.2, random_state=42)\n",
    "    x_train.fillna(x_train.mean(), inplace=True) \n",
    "    x_test.fillna (x_test.mean(), inplace=True)\n",
    "    std_scaler = StandardScaler() \n",
    "    x_train = std_scaler.fit_transform(x_train)\n",
    "    x_test = std_scaler.transform(x_test)\n",
    "    x_train = pd.DataFrame(x_train)\n",
    "    x_test = pd.DataFrame(x_test)\n",
    "    length = len(x_train)\n",
    "\n",
    "    ensemble_predictions = []\n",
    "    ensemble_predictions_test = []\n",
    "\n",
    "    indices = list(range(length))\n",
    "    random.shuffle(indices)\n",
    "    part_size = length // samples\n",
    "    divided_indices = [indices[i:i + part_size] for i in range(0, length, part_size)]\n",
    "    if len(divided_indices[0]) != len(divided_indices[-1]):\n",
    "        divided_indices = divided_indices[:-1]\n",
    "    divided_indices = np.array(divided_indices)\n",
    "\n",
    "    flag = 0\n",
    "\n",
    "    for base_estimator in level_0_estimators:\n",
    "        if stacking_method == 'stacking':\n",
    "            ensemble_predictions.append(y_train.copy().values)\n",
    "            for i in range(0, samples):\n",
    "                x_sampled_val = x_train.iloc[divided_indices[i].tolist()]\n",
    "                y_sampled_val = y_train.iloc[divided_indices[i].tolist()]\n",
    "\n",
    "                x_sampled_train = x_train.drop(x_train.index[divided_indices[i].tolist()])\n",
    "                y_sampled_train = y_train.drop(y_train.index[divided_indices[i].tolist()])\n",
    "\n",
    "                model_type = base_estimator()\n",
    "                model = model_type.train_model(x_sampled_train, y_sampled_train)\n",
    "                predictions = model_type.predict(model, x_sampled_val)\n",
    "                predictions = predictions.reshape(-1,)\n",
    "                ensemble_predictions[-1][divided_indices[i].tolist()] = predictions\n",
    "            model_type = base_estimator()\n",
    "            model = model_type.train_model(x_train, y_train)\n",
    "            model = model_type.predict(model, x_test)\n",
    "            accuracy, classification_rep = model_type.evaluate_model(y_test, model)\n",
    "            model = model.reshape(-1,)\n",
    "            ensemble_predictions_test.append(model)\n",
    "            print(accuracy)\n",
    "        else:\n",
    "            x_sampled_val = x_train.iloc[divided_indices[-1].tolist()]\n",
    "            y_sampled_val = y_train.iloc[divided_indices[-1].tolist()]\n",
    "\n",
    "            x_sampled_train = x_train.drop(x_train.index[divided_indices[-1].tolist()])\n",
    "            y_sampled_train = y_train.drop(y_train.index[divided_indices[-1].tolist()])\n",
    "\n",
    "            if flag == 0:\n",
    "                ensemble_predictions = x_sampled_val.copy().values\n",
    "                ensemble_predictions_test = x_test.copy().values\n",
    "                flag = 1\n",
    "\n",
    "            model_type = base_estimator()\n",
    "            model = model_type.train_model(x_sampled_train, y_sampled_train)\n",
    "            predictions = model_type.predict(model, x_sampled_val)\n",
    "            predictions = predictions.reshape(-1,)\n",
    "            ensemble_predictions = np.c_[ensemble_predictions, np.array(predictions)]\n",
    "\n",
    "            predictions = model_type.predict(model, x_test)\n",
    "            predictions = predictions.reshape(-1,)\n",
    "            ensemble_predictions_test = np.c_[ensemble_predictions_test, np.array(predictions)]\n",
    "\n",
    "    ensemble_predictions = np.array(ensemble_predictions)\n",
    "    ensemble_predictions_test = np.array(ensemble_predictions_test)\n",
    "\n",
    "    if stacking_method == 'stacking':\n",
    "        stacking_input = ensemble_predictions.T\n",
    "        model_type = level_1_estimator()\n",
    "        model = model_type.train_model(pd.DataFrame(stacking_input), y_train)\n",
    "        predictions = model_type.predict(model, pd.DataFrame(ensemble_predictions_test.T))\n",
    "        accuracy, classification_rep = model_type.evaluate_model(y_test, predictions)\n",
    "    else:\n",
    "        stacking_input = ensemble_predictions\n",
    "        model_type = level_1_estimator()\n",
    "        model = model_type.train_model(pd.DataFrame(stacking_input), y_train.iloc[divided_indices[-1].tolist()])\n",
    "        predictions = model_type.predict(model, pd.DataFrame(ensemble_predictions_test))\n",
    "        accuracy, classification_rep = model_type.evaluate_model(y_test, predictions)\n",
    "\n",
    "    # if best_metric is None or mse < best_metric:\n",
    "    #     best_metric = mse\n",
    "    #     best_model = {\n",
    "    #         \"accuracy\": accuracy,\n",
    "    #         \"classification_rep\": classification_rep,\n",
    "    #         \"level_0_models\": level_0_estimators,\n",
    "    #         \"level_1_model\": level_1_estimator,\n",
    "    #     }\n",
    "\n",
    "    return accuracy, classification_rep"
   ]
  },
  {
   "cell_type": "code",
   "execution_count": 19,
   "metadata": {},
   "outputs": [],
   "source": [
    "def stacking_regression(level_0_estimators, level_1_estimator, stacking_method, samples):\n",
    "    df = pd.read_csv('./HousingData.csv')\n",
    "    data_standardized = df\n",
    "    features = data_standardized.columns.difference([\"MEDV\"])\n",
    "    x_train, x_test, y_train, y_test = train_test_split(data_standardized[features], data_standardized[\"MEDV\"], test_size=0.2, random_state=42)\n",
    "    x_train.fillna(x_train.mean(), inplace=True) \n",
    "    x_test.fillna (x_test.mean(), inplace=True)\n",
    "    std_scaler = StandardScaler() \n",
    "    x_train = std_scaler.fit_transform(x_train)\n",
    "    x_test = std_scaler.transform(x_test)\n",
    "    x_train = pd.DataFrame(x_train)\n",
    "    x_test = pd.DataFrame(x_test)\n",
    "    length = len(x_train)\n",
    "\n",
    "    ensemble_predictions = []\n",
    "    ensemble_predictions_test = []\n",
    "\n",
    "    indices = list(range(length))\n",
    "    random.shuffle(indices)\n",
    "    part_size = length // samples\n",
    "    divided_indices = [indices[i:i + part_size] for i in range(0, length, part_size)]\n",
    "    if len(divided_indices[0]) != len(divided_indices[-1]):\n",
    "        divided_indices = divided_indices[:-1]\n",
    "    divided_indices = np.array(divided_indices)\n",
    "\n",
    "    flag = 0\n",
    "\n",
    "    for base_estimator in level_0_estimators:\n",
    "        if stacking_method == 'stacking':\n",
    "            ensemble_predictions.append(y_train.copy().values)\n",
    "            for i in range(0, samples):\n",
    "                x_sampled_val = x_train.iloc[divided_indices[i].tolist()]\n",
    "                y_sampled_val = y_train.iloc[divided_indices[i].tolist()]\n",
    "\n",
    "                x_sampled_train = x_train.drop(x_train.index[divided_indices[i].tolist()])\n",
    "                y_sampled_train = y_train.drop(y_train.index[divided_indices[i].tolist()])\n",
    "\n",
    "                model_type = base_estimator()\n",
    "                model = model_type.train_model(x_sampled_train, y_sampled_train)\n",
    "                predictions = model_type.predict(model, x_sampled_val)\n",
    "                predictions = predictions.reshape(-1,)\n",
    "                ensemble_predictions[-1][divided_indices[i].tolist()] = predictions\n",
    "\n",
    "            model_type = base_estimator()\n",
    "            model = model_type.train_model(x_train, y_train)\n",
    "            model = model_type.predict(model, x_test)\n",
    "            mse = model_type.evaluate_model(y_test, model)\n",
    "            model = model.reshape(-1,)\n",
    "            ensemble_predictions_test.append(model)\n",
    "            print(mse)\n",
    "        else:\n",
    "            x_sampled_val = x_train.iloc[divided_indices[-1].tolist()]\n",
    "            y_sampled_val = y_train.iloc[divided_indices[-1].tolist()]\n",
    "\n",
    "            x_sampled_train = x_train.drop(x_train.index[divided_indices[-1].tolist()])\n",
    "            y_sampled_train = y_train.drop(y_train.index[divided_indices[-1].tolist()])\n",
    "\n",
    "            if flag == 0:\n",
    "                ensemble_predictions = x_sampled_val.copy().values\n",
    "                ensemble_predictions_test = x_test.copy().values\n",
    "                flag = 1\n",
    "\n",
    "            model_type = base_estimator()\n",
    "            model = model_type.train_model(x_sampled_train, y_sampled_train)\n",
    "            predictions = model_type.predict(model, x_sampled_val)\n",
    "            predictions = predictions.reshape(-1,)\n",
    "            ensemble_predictions = np.c_[ensemble_predictions, np.array(predictions)]\n",
    "\n",
    "            predictions = model_type.predict(model, x_test)\n",
    "            predictions = predictions.reshape(-1,)\n",
    "            ensemble_predictions_test = np.c_[ensemble_predictions_test, np.array(predictions)]\n",
    "\n",
    "    ensemble_predictions = np.array(ensemble_predictions)\n",
    "    ensemble_predictions_test = np.array(ensemble_predictions_test)\n",
    "\n",
    "    if stacking_method == 'stacking':\n",
    "        stacking_input = ensemble_predictions.T\n",
    "        model_type = level_1_estimator()\n",
    "        model = model_type.train_model(pd.DataFrame(stacking_input), y_train)\n",
    "        predictions = model_type.predict(model, pd.DataFrame(ensemble_predictions_test.T))\n",
    "        mse = model_type.evaluate_model(y_test, predictions)\n",
    "    else:\n",
    "        stacking_input = ensemble_predictions\n",
    "        model_type = level_1_estimator()\n",
    "        model = model_type.train_model(pd.DataFrame(stacking_input), y_train.iloc[divided_indices[-1].tolist()])\n",
    "        predictions = model_type.predict(model, pd.DataFrame(ensemble_predictions_test))\n",
    "        mse = model_type.evaluate_model(y_test, predictions)\n",
    "\n",
    "    # if best_metric is None or mse < best_metric:\n",
    "    #     best_metric = mse\n",
    "    #     best_model = {\n",
    "    #         \"accuracy\": accuracy,\n",
    "    #         \"classification_rep\": classification_rep,\n",
    "    #         \"level_0_models\": level_0_estimators,\n",
    "    #         \"level_1_model\": level_1_estimator,\n",
    "    #     }\n",
    "\n",
    "    return mse"
   ]
  },
  {
   "cell_type": "code",
   "execution_count": 78,
   "metadata": {},
   "outputs": [
    {
     "name": "stdout",
     "output_type": "stream",
     "text": [
      "0.5327510917030568\n",
      "0.6069868995633187\n",
      "0.5764192139737991\n",
      "0.5982532751091703\n"
     ]
    }
   ],
   "source": [
    "best_model = stacking_classification([DecisionTreeClassifierClass, Mlp_Classification, Logisitic_Regression], DecisionTreeClassifierClass, 'stacking', 4)\n",
    "print(best_model[0])"
   ]
  },
  {
   "cell_type": "code",
   "execution_count": 79,
   "metadata": {},
   "outputs": [
    {
     "name": "stdout",
     "output_type": "stream",
     "text": [
      "25.98235294117647\n",
      "17.621713731340847\n",
      "25.056114338834035\n",
      "13.437715708319281\n"
     ]
    }
   ],
   "source": [
    "best_model = stacking_regression([DecisionTreeRegressionClass, Mlp_Regression, LinearRegressionClass], LinearRegressionClass, 'stacking', 4)\n",
    "print(best_model)"
   ]
  },
  {
   "cell_type": "code",
   "execution_count": 80,
   "metadata": {},
   "outputs": [
    {
     "name": "stdout",
     "output_type": "stream",
     "text": [
      "0.5414847161572053\n"
     ]
    }
   ],
   "source": [
    "best_model = stacking_classification([DecisionTreeClassifierClass, Mlp_Classification, Logisitic_Regression], DecisionTreeClassifierClass, 'blending', 4)\n",
    "print(best_model[0])"
   ]
  },
  {
   "cell_type": "code",
   "execution_count": 81,
   "metadata": {},
   "outputs": [
    {
     "name": "stdout",
     "output_type": "stream",
     "text": [
      "17.218566123033952\n"
     ]
    }
   ],
   "source": [
    "best_model = stacking_regression([DecisionTreeRegressionClass, Mlp_Regression, LinearRegressionClass], LinearRegressionClass, 'blending', 4)\n",
    "print(best_model)"
   ]
  },
  {
   "cell_type": "code",
   "execution_count": 83,
   "metadata": {},
   "outputs": [
    {
     "name": "stdout",
     "output_type": "stream",
     "text": [
      "0.5327510917030568\n",
      "0.6069868995633187\n",
      "0.5720524017467249\n",
      "0.5327510917030568\n",
      "0.6069868995633187\n",
      "0.5764192139737991\n",
      "0.5327510917030568\n",
      "0.6069868995633187\n",
      "0.5720524017467249\n",
      "0.5327510917030568\n",
      "0.6069868995633187\n",
      "0.5720524017467249\n",
      "0.5327510917030568\n",
      "0.6069868995633187\n",
      "0.5764192139737991\n",
      "0.5327510917030568\n",
      "0.6069868995633187\n",
      "0.5720524017467249\n",
      "{'model': <class '__main__.Logisitic_Regression'>, 'sample': 8, 'method': 'blending', 'accuracy': 0.5938864628820961}\n"
     ]
    }
   ],
   "source": [
    "min_accuracy = 0\n",
    "for model in [DecisionTreeClassifierClass, Logisitic_Regression]:\n",
    "    for samples in [2, 4, 8]:\n",
    "        for method in ['stacking', 'blending']:\n",
    "                best_model = stacking_classification([DecisionTreeClassifierClass, Mlp_Classification, Logisitic_Regression], model, method, samples)\n",
    "                if best_model[0] > min_accuracy:\n",
    "                    best_model_stacking_classification = {\n",
    "                        'model': model,\n",
    "                        'sample': samples,\n",
    "                        'method': method,\n",
    "                        'accuracy': best_model[0]\n",
    "                    }\n",
    "                    min_acc = accuracy\n",
    "print(best_model_stacking_classification)"
   ]
  },
  {
   "cell_type": "code",
   "execution_count": 115,
   "metadata": {},
   "outputs": [
    {
     "name": "stdout",
     "output_type": "stream",
     "text": [
      "0.5327510917030568\n",
      "0.6069868995633187\n",
      "0.5720524017467249\n",
      "0.5327510917030568\n",
      "0.6069868995633187\n",
      "0.5764192139737991\n",
      "0.5327510917030568\n",
      "0.6069868995633187\n",
      "0.5720524017467249\n",
      "{'model': <class '__main__.DecisionTreeClassifierClass'>, 'sample': 8, 'method': 'blending', 'accuracy': 0.5283842794759825}\n"
     ]
    }
   ],
   "source": [
    "min_accuracy = 0\n",
    "for model in [DecisionTreeClassifierClass]:\n",
    "    for samples in [2, 4, 8]:\n",
    "        for method in ['stacking', 'blending']:\n",
    "                best_model = stacking_classification([DecisionTreeClassifierClass, Mlp_Classification, Logisitic_Regression], model, method, samples)\n",
    "                if best_model[0] > min_accuracy:\n",
    "                    best_model_stacking_classification = {\n",
    "                        'model': model,\n",
    "                        'sample': samples,\n",
    "                        'method': method,\n",
    "                        'accuracy': best_model[0]\n",
    "                    }\n",
    "                    min_acc = accuracy\n",
    "print(best_model_stacking_classification)"
   ]
  },
  {
   "cell_type": "code",
   "execution_count": 124,
   "metadata": {},
   "outputs": [
    {
     "data": {
      "image/png": "[encoded data removed]",
      "text/plain": [
       "<Figure size 1000x600 with 1 Axes>"
      ]
     },
     "metadata": {},
     "output_type": "display_data"
    }
   ],
   "source": [
    "data1 = [63.31, 54.14]\n",
    "data2 = [52.83, 59.38]\n",
    "indices = np.arange(len(data1))\n",
    "\n",
    "# Plotting side-by-side histograms\n",
    "plt.figure(figsize=(10, 6))\n",
    "\n",
    "bar_width = 0.35  # Adjust as needed\n",
    "\n",
    "plt.bar(indices, data1, width=bar_width, alpha=0.5, label='Dataset 1', color='blue')\n",
    "plt.bar(indices + bar_width, data2, width=bar_width, alpha=0.5, label='Dataset 2', color='orange')\n",
    "\n",
    "plt.xlabel('Categories')\n",
    "plt.ylabel('Values')\n",
    "plt.title('Side-by-Side Histograms')\n",
    "plt.legend()\n",
    "plt.show()"
   ]
  },
  {
   "cell_type": "code",
   "execution_count": 84,
   "metadata": {},
   "outputs": [
    {
     "name": "stdout",
     "output_type": "stream",
     "text": [
      "25.98235294117647\n",
      "17.621713731340847\n",
      "25.056114338834035\n",
      "25.98235294117647\n",
      "17.621713731340847\n",
      "25.056114338834035\n",
      "25.98235294117647\n",
      "17.621713731340847\n",
      "25.056114338834035\n",
      "25.98235294117647\n",
      "17.621713731340847\n",
      "25.056114338834035\n",
      "25.98235294117647\n",
      "17.621713731340847\n",
      "25.056114338834035\n",
      "25.98235294117647\n",
      "17.621713731340847\n",
      "25.056114338834035\n",
      "{'model': <class '__main__.LinearRegressionClass'>, 'sample': 8, 'method': 'blending', 'mse': 24.89099195970116}\n"
     ]
    }
   ],
   "source": [
    "max_mse = 100\n",
    "for model in [DecisionTreeRegressionClass, LinearRegressionClass]:\n",
    "    for samples in [2, 4, 8]:\n",
    "        for method in ['stacking', 'blending']:\n",
    "                best_model = stacking_regression([DecisionTreeRegressionClass, Mlp_Regression, LinearRegressionClass], model, method, samples)\n",
    "                if best_model < max_mse:\n",
    "                    best_model_stacking_regression = {\n",
    "                        'model': model,\n",
    "                        'sample': samples,\n",
    "                        'method': method,\n",
    "                        'mse': mse\n",
    "                    }\n",
    "                    min_acc = accuracy\n",
    "print(best_model_stacking_regression)"
   ]
  },
  {
   "cell_type": "code",
   "execution_count": 85,
   "metadata": {},
   "outputs": [],
   "source": [
    "def random_forest_classification(n_estimators, samples, bootstrap):\n",
    "    base_model = DecisionTreeClassifierClass\n",
    "    df = pd.read_csv('./WineQT.csv')\n",
    "    data_standardized = df\n",
    "    features = data_standardized.columns.difference([\"quality\", \"Id\"])\n",
    "    x_train, x_temp, y_train, y_temp = train_test_split(data_standardized[features], df[\"quality\"], test_size=0.4, random_state=42)\n",
    "    x_val, x_test, y_val, y_test = train_test_split(x_temp, y_temp, test_size=0.5, random_state=42)\n",
    "    x_train.fillna(x_train.mean(), inplace=True) \n",
    "    x_val.fillna(x_val.mean(), inplace=True) \n",
    "    x_test.fillna (x_test.mean(), inplace=True)\n",
    "    std_scaler = StandardScaler() \n",
    "    x_train = std_scaler.fit_transform(x_train)\n",
    "    x_val = std_scaler.transform(x_val)\n",
    "    x_test = std_scaler.transform(x_test)\n",
    "    x_train = pd.DataFrame(x_train)\n",
    "    x_val = pd.DataFrame(x_val)\n",
    "    x_test = pd.DataFrame(x_test)\n",
    "    length = len(x_train)\n",
    "\n",
    "    ensemble_predictions = []\n",
    "    for _ in range(n_estimators):\n",
    "        sample_indices = np.random.choice(len(x_train), size=int(samples * length), replace=False)\n",
    "        x_sampled = x_train.iloc[sample_indices]\n",
    "        y_sampled = y_train.iloc[sample_indices]\n",
    "\n",
    "        if bootstrap:\n",
    "            x_train = x_train.drop(x_train.index[sample_indices])\n",
    "            y_train = y_train.drop(y_train.index[sample_indices])\n",
    "        \n",
    "        model_type = base_model()\n",
    "        model = model_type.train_model(x_sampled, y_sampled)\n",
    "        predictions = model_type.predict(model, x_test)\n",
    "        predictions = predictions.reshape(-1,)\n",
    "        ensemble_predictions.append(predictions)\n",
    "    data_transposed = np.array(ensemble_predictions).T\n",
    "    most_frequent_elements = []\n",
    "    for col in data_transposed:\n",
    "        most_common_element = np.bincount(col).argmax()\n",
    "        most_frequent_elements.append(most_common_element)\n",
    "    final_predictions = np.array(most_frequent_elements)\n",
    "    model_type = base_model()\n",
    "    accuracy, classification_rep = model_type.evaluate_model(y_test, final_predictions)\n",
    "    return accuracy, classification_rep"
   ]
  },
  {
   "cell_type": "code",
   "execution_count": 86,
   "metadata": {},
   "outputs": [],
   "source": [
    "def random_forest_regression(n_estimators, samples, bootstrap):\n",
    "    base_model = DecisionTreeRegressionClass\n",
    "    df = pd.read_csv('./HousingData.csv')\n",
    "    data_standardized = df\n",
    "    features = data_standardized.columns.difference([\"MEDV\"])\n",
    "    x_train, x_temp, y_train, y_temp = train_test_split(data_standardized[features], data_standardized[\"MEDV\"], test_size=0.4, random_state=42)\n",
    "    x_val, x_test, y_val, y_test = train_test_split(x_temp, y_temp, test_size=0.5, random_state=42)\n",
    "    x_train.fillna(x_train.mean(), inplace=True) \n",
    "    x_val.fillna(x_val.mean(), inplace=True) \n",
    "    x_test.fillna (x_test.mean(), inplace=True)\n",
    "    std_scaler = StandardScaler() \n",
    "    x_train = std_scaler.fit_transform(x_train)\n",
    "    x_val = std_scaler.transform(x_val)\n",
    "    x_test = std_scaler.transform(x_test)\n",
    "    x_train = pd.DataFrame(x_train)\n",
    "    x_val = pd.DataFrame(x_val)\n",
    "    x_test = pd.DataFrame(x_test)\n",
    "    length = len(x_train)\n",
    "\n",
    "    ensemble_predictions = []\n",
    "    for _ in range(n_estimators):\n",
    "        sample_indices = np.random.choice(len(x_train), size=int(samples * length), replace=False)\n",
    "        x_sampled = x_train.iloc[sample_indices]\n",
    "        y_sampled = y_train.iloc[sample_indices]\n",
    "\n",
    "        if bootstrap:\n",
    "            x_train = x_train.drop(x_train.index[sample_indices])\n",
    "            y_train = y_train.drop(y_train.index[sample_indices])\n",
    "        \n",
    "        model_type = base_model()\n",
    "        model = model_type.train_model(x_sampled, y_sampled)\n",
    "        predictions = model_type.predict(model, x_test)\n",
    "        predictions = predictions.reshape(-1,)\n",
    "        ensemble_predictions.append(predictions)\n",
    "\n",
    "    final_predictions = np.mean(ensemble_predictions, axis=0)\n",
    "    model_type = base_model()\n",
    "    mse = model_type.evaluate_model(y_test, final_predictions)\n",
    "    return mse"
   ]
  },
  {
   "cell_type": "code",
   "execution_count": 87,
   "metadata": {},
   "outputs": [
    {
     "name": "stdout",
     "output_type": "stream",
     "text": [
      "0.5895196506550219\n",
      "              precision    recall  f1-score   support\n",
      "\n",
      "           4       0.00      0.00      1.00         9\n",
      "           5       0.61      0.72      0.66        97\n",
      "           6       0.56      0.53      0.54        93\n",
      "           7       0.60      0.58      0.59        26\n",
      "           8       1.00      0.25      0.40         4\n",
      "\n",
      "    accuracy                           0.59       229\n",
      "   macro avg       0.55      0.42      0.64       229\n",
      "weighted avg       0.57      0.59      0.61       229\n",
      "\n"
     ]
    }
   ],
   "source": [
    "accuracy, classification_rep = random_forest_classification(15, 0.6, False)\n",
    "print(accuracy)\n",
    "print(classification_rep)"
   ]
  },
  {
   "cell_type": "code",
   "execution_count": 88,
   "metadata": {},
   "outputs": [
    {
     "name": "stdout",
     "output_type": "stream",
     "text": [
      "13.057855773420489\n"
     ]
    }
   ],
   "source": [
    "mse = random_forest_regression(15, 0.6, False)\n",
    "print(mse)"
   ]
  },
  {
   "cell_type": "code",
   "execution_count": 92,
   "metadata": {},
   "outputs": [
    {
     "name": "stdout",
     "output_type": "stream",
     "text": [
      "{'n_e': 100, 'sample': 0.8, 'bs': False, 'accuracy': 0.5982532751091703}\n"
     ]
    }
   ],
   "source": [
    "min_accuracy = 0\n",
    "for n_e in [1, 5, 10, 100]:\n",
    "    for samples in [0.5, 0.6, 0.8]:\n",
    "            accuracy, classification_rep = random_forest_classification(n_e, samples, bs)\n",
    "            if accuracy > min_accuracy:\n",
    "                best_model_rf_classification = {\n",
    "                    'n_e': n_e,\n",
    "                    'sample': samples,\n",
    "                    'bs': bs,\n",
    "                    'accuracy': accuracy\n",
    "                }\n",
    "                min_acc = accuracy\n",
    "print(best_model_rf_classification)"
   ]
  },
  {
   "cell_type": "code",
   "execution_count": 93,
   "metadata": {},
   "outputs": [
    {
     "name": "stdout",
     "output_type": "stream",
     "text": [
      "{'n_e': 100, 'sample': 0.8, 'bs': False, 'mse': 11.048518954248365}\n"
     ]
    }
   ],
   "source": [
    "max_mse = 100\n",
    "for n_e in [1, 5, 10, 100]:\n",
    "    for samples in [0.5, 0.6, 0.8]:\n",
    "            mse = random_forest_regression(15, 0.6, False)\n",
    "            if mse < max_mse:\n",
    "                best_model_rf_regression = {\n",
    "                    'n_e': n_e,\n",
    "                    'sample': samples,\n",
    "                    'bs': bs,\n",
    "                    'mse': mse\n",
    "                }\n",
    "                min_acc = accuracy\n",
    "print(best_model_rf_regression)"
   ]
  },
  {
   "cell_type": "code",
   "execution_count": 10,
   "metadata": {},
   "outputs": [],
   "source": [
    "def adaboost_classification(number_of_layers, threshold):\n",
    "    df = pd.read_csv('./WineQT.csv')\n",
    "    df['quality'] -= 3\n",
    "    data_standardized = df.copy()\n",
    "    features = data_standardized.columns.difference([\"quality\", \"Id\"])\n",
    "    data_standardized = data_standardized[features]\n",
    "    data_standardized.fillna(data_standardized.mean(), inplace=True)\n",
    "    std_scaler = StandardScaler()\n",
    "    data_standardized = std_scaler.fit_transform(data_standardized)\n",
    "    data_standardized = pd.DataFrame(data_standardized)\n",
    "    df[features] = data_standardized.copy()\n",
    "    x_train, x_test, y_train, y_test = train_test_split(df[features], df[\"quality\"], test_size=0.2, random_state=42)\n",
    "    x_train['prob'] = 1 / x_train.shape[0]\n",
    "    # print(x_train)\n",
    "\n",
    "    alphas = []\n",
    "    predictions = []\n",
    "    models = []\n",
    "    for _ in range(0, number_of_layers):\n",
    "        # print(np.sum(x_train['prob']))\n",
    "        # x_train1 = x_train.sample(frac=0.8, replace=True, weights=x_train['prob'], random_state=42)\n",
    "        # print(x_train1)\n",
    "        # x_train = x_train1[features].copy()\n",
    "        # y_train = x_train1['quality'].copy()\n",
    "        \n",
    "        model = DecisionTreeClassifier(random_state=42, max_depth=(y_train.nunique() - 1))\n",
    "        model_fitted = model.fit(x_train[features], y_train, sample_weight=x_train['prob'])\n",
    "        x_train['pred'] = model_fitted.predict(x_train[features])\n",
    "        x_train['misclassified'] = (y_train != x_train['pred'])\n",
    "        models.append(model_fitted)\n",
    "        print(accuracy_score(y_train, x_train['pred']))\n",
    "        # print(x_train['pred'])\n",
    "        # print((x_train['misclassified']))\n",
    "\n",
    "        total_error = sum(x_train['misclassified'] * x_train['prob'])\n",
    "        print(total_error)\n",
    "        alpha1 = np.log((1-total_error) / total_error) + np.log(y_train.nunique() - 1)\n",
    "        alphas.append(alpha1)\n",
    "        # print(alpha1)\n",
    "\n",
    "        new_weights = x_train['prob'] * np.exp(-1 * alpha1 * x_train['misclassified'])\n",
    "        new_weights /= sum(new_weights)\n",
    "        x_train['prob'] = new_weights\n",
    "        # print(df['prob'])\n",
    "        if total_error < threshold:\n",
    "            break\n",
    "    for i, model in enumerate(models):\n",
    "        predictions.append(model.predict(x_test))\n",
    "    predictions = np.array(predictions)\n",
    "    alphas = np.array(alphas)\n",
    "    # print((predictions).shape)\n",
    "    # print(alphas[:, np.newaxis])\n",
    "    final_final_predictions = []\n",
    "    for i in range(y_test.nunique()):\n",
    "        # print(i)\n",
    "        final_predictions = predictions.copy()\n",
    "        # print(final_predictions)\n",
    "        cnd = final_predictions.copy()\n",
    "        final_predictions[cnd==i] = 1\n",
    "        final_predictions[cnd!=i] = 0\n",
    "        # print(final_predictions)\n",
    "        final_predictions = final_predictions * alphas[:, np.newaxis]\n",
    "        final_predictions = final_predictions.sum(axis = 0)\n",
    "        final_predictions = (final_predictions.reshape(-1,))\n",
    "        final_final_predictions.append(final_predictions)\n",
    "    final_final_predictions = np.array(final_final_predictions)\n",
    "    # print(final_final_predictions)\n",
    "    ind = np.argmax(final_final_predictions, axis=0)\n",
    "    # print(ind)\n",
    "    accuracy = accuracy_score(y_test, ind)\n",
    "    classification_rep = classification_report(y_test, ind, zero_division=1.0)\n",
    "    return accuracy, classification_rep"
   ]
  },
  {
   "cell_type": "code",
   "execution_count": 11,
   "metadata": {},
   "outputs": [],
   "source": [
    "def adaboost_classification_prediction(number_of_layers, threshold):\n",
    "    df = pd.read_csv('./WineQT.csv')\n",
    "    df['quality'] -= 3\n",
    "    data_standardized = df.copy()\n",
    "    features = data_standardized.columns.difference([\"quality\", \"Id\"])\n",
    "    data_standardized = data_standardized[features]\n",
    "    data_standardized.fillna(data_standardized.mean(), inplace=True)\n",
    "    std_scaler = StandardScaler()\n",
    "    data_standardized = std_scaler.fit_transform(data_standardized)\n",
    "    data_standardized = pd.DataFrame(data_standardized)\n",
    "    df[features] = data_standardized.copy()\n",
    "    x_train, x_test, y_train, y_test = train_test_split(df[features], df[\"quality\"], test_size=0.2, random_state=42)\n",
    "    x_train['prob'] = 1 / x_train.shape[0]\n",
    "    # print(x_train)\n",
    "\n",
    "    alphas = []\n",
    "    predictions = []\n",
    "    models = []\n",
    "    for _ in range(0, number_of_layers):\n",
    "        # print(np.sum(x_train['prob']))\n",
    "        # x_train1 = x_train.sample(frac=0.8, replace=True, weights=x_train['prob'], random_state=42)\n",
    "        # print(x_train1)\n",
    "        # x_train = x_train1[features].copy()\n",
    "        # y_train = x_train1['quality'].copy()\n",
    "        \n",
    "        model = DecisionTreeClassifier(random_state=42, max_depth=(y_train.nunique() - 1))\n",
    "        model_fitted = model.fit(x_train[features], y_train, sample_weight=x_train['prob'])\n",
    "        x_train['pred'] = model_fitted.predict(x_train[features])\n",
    "        x_train['misclassified'] = (y_train != x_train['pred'])\n",
    "        models.append(model_fitted)\n",
    "        print(accuracy_score(y_train, x_train['pred']))\n",
    "        # print(x_train['pred'])\n",
    "        # print((x_train['misclassified']))\n",
    "\n",
    "        total_error = sum(x_train['misclassified'] * x_train['prob'])\n",
    "        print(total_error)\n",
    "        alpha1 = np.log((1-total_error) / total_error) + np.log(y_train.nunique() - 1)\n",
    "        alphas.append(alpha1)\n",
    "        # print(alpha1)\n",
    "\n",
    "        new_weights = x_train['prob'] * np.exp(-1 * alpha1 * x_train['misclassified'])\n",
    "        new_weights /= sum(new_weights)\n",
    "        x_train['prob'] = new_weights\n",
    "        # print(df['prob'])\n",
    "        if total_error < threshold:\n",
    "            break\n",
    "    for i, model in enumerate(models):\n",
    "        predictions.append(model.predict(x_test))\n",
    "    predictions = np.array(predictions)\n",
    "    alphas = np.array(alphas)\n",
    "    # print((predictions).shape)\n",
    "    # print(alphas[:, np.newaxis])\n",
    "    final_final_predictions = []\n",
    "    for i in range(y_test.nunique()):\n",
    "        # print(i)\n",
    "        final_predictions = predictions.copy()\n",
    "        # print(final_predictions)\n",
    "        cnd = final_predictions.copy()\n",
    "        final_predictions[cnd==i] = 1\n",
    "        final_predictions[cnd!=i] = 0\n",
    "        # print(final_predictions)\n",
    "        final_predictions = final_predictions * alphas[:, np.newaxis]\n",
    "        final_predictions = final_predictions.sum(axis = 0)\n",
    "        final_predictions = (final_predictions.reshape(-1,))\n",
    "        final_final_predictions.append(final_predictions)\n",
    "    final_final_predictions = np.array(final_final_predictions)\n",
    "    # print(final_final_predictions)\n",
    "    ind = np.argmax(final_final_predictions, axis=0)\n",
    "    # print(ind)\n",
    "    accuracy = accuracy_score(y_test, ind)\n",
    "    classification_rep = classification_report(y_test, ind, zero_division=1.0)\n",
    "    return y_test, ind"
   ]
  },
  {
   "cell_type": "code",
   "execution_count": 95,
   "metadata": {},
   "outputs": [
    {
     "name": "stdout",
     "output_type": "stream",
     "text": [
      "0.6816192560175055\n",
      "0.31838074398249455\n",
      "0.6761487964989059\n",
      "0.08296540902551075\n",
      "0.6706783369803063\n",
      "0.02378513321999547\n",
      "0.6761487964989059\n",
      "0.0001183683217682536\n",
      "0.6761487964989059\n",
      "2.802875415839265e-09\n",
      "0.6761487964989059\n",
      "1.5712221281511281e-18\n"
     ]
    },
    {
     "data": {
      "text/plain": [
       "(0.6157205240174672,\n",
       " '              precision    recall  f1-score   support\\n\\n           1       0.00      0.00      1.00         6\\n           2       0.71      0.69      0.70        96\\n           3       0.59      0.70      0.64        99\\n           4       0.33      0.23      0.27        26\\n           5       1.00      0.00      0.00         2\\n\\n    accuracy                           0.62       229\\n   macro avg       0.53      0.32      0.52       229\\nweighted avg       0.60      0.62      0.63       229\\n')"
      ]
     },
     "execution_count": 95,
     "metadata": {},
     "output_type": "execute_result"
    }
   ],
   "source": [
    "adaboost_classification(10, 1e-10)"
   ]
  },
  {
   "cell_type": "code",
   "execution_count": 135,
   "metadata": {},
   "outputs": [
    {
     "name": "stdout",
     "output_type": "stream",
     "text": [
      "0.6816192560175055\n",
      "0.31838074398249455\n",
      "0.6761487964989059\n",
      "0.08296540902551075\n",
      "0.6706783369803063\n",
      "0.02378513321999547\n",
      "0.6761487964989059\n",
      "0.0001183683217682536\n",
      "0.6761487964989059\n",
      "2.802875415839265e-09\n",
      "0.6761487964989059\n",
      "1.5712221281511281e-18\n",
      "0.6816192560175055\n",
      "0.31838074398249455\n",
      "0.6761487964989059\n",
      "0.08296540902551075\n",
      "0.6706783369803063\n",
      "0.02378513321999547\n",
      "0.6761487964989059\n",
      "0.0001183683217682536\n",
      "0.6761487964989059\n",
      "2.802875415839265e-09\n",
      "0.6761487964989059\n",
      "1.5712221281511281e-18\n",
      "0.6816192560175055\n",
      "0.31838074398249455\n",
      "0.6761487964989059\n",
      "0.08296540902551075\n",
      "0.6706783369803063\n",
      "0.02378513321999547\n",
      "0.6761487964989059\n",
      "0.0001183683217682536\n",
      "0.6761487964989059\n",
      "2.802875415839265e-09\n",
      "0.6761487964989059\n",
      "1.5712221281511281e-18\n",
      "0.6816192560175055\n",
      "0.31838074398249455\n",
      "0.6761487964989059\n",
      "0.08296540902551075\n",
      "0.6706783369803063\n",
      "0.02378513321999547\n",
      "0.6761487964989059\n",
      "0.0001183683217682536\n",
      "0.6761487964989059\n",
      "2.802875415839265e-09\n",
      "0.6761487964989059\n",
      "1.5712221281511281e-18\n"
     ]
    }
   ],
   "source": [
    "adaboost_classification_estimators = []\n",
    "adaboost_classification_time = []\n",
    "for n_e in [10, 50, 100, 200]:\n",
    "    start_time = time.time()\n",
    "    accuracy, classification_rep = adaboost_classification(n_e, 1e-10)\n",
    "    adaboost_classification_estimators.append(n_e)\n",
    "    adaboost_classification_time.append(time.time() - start_time)"
   ]
  },
  {
   "cell_type": "code",
   "execution_count": 116,
   "metadata": {},
   "outputs": [
    {
     "name": "stdout",
     "output_type": "stream",
     "text": [
      "0.6816192560175055\n",
      "0.31838074398249455\n",
      "0.6761487964989059\n",
      "0.08296540902551075\n",
      "0.6706783369803063\n",
      "0.02378513321999547\n",
      "0.6761487964989059\n",
      "0.0001183683217682536\n",
      "0.6761487964989059\n",
      "2.802875415839265e-09\n",
      "0.6761487964989059\n",
      "1.5712221281511281e-18\n",
      "10 0.6157205240174672\n",
      "0.6816192560175055\n",
      "0.31838074398249455\n",
      "0.6761487964989059\n",
      "0.08296540902551075\n",
      "0.6706783369803063\n",
      "0.02378513321999547\n",
      "0.6761487964989059\n",
      "0.0001183683217682536\n",
      "0.6761487964989059\n",
      "2.802875415839265e-09\n",
      "0.6761487964989059\n",
      "1.5712221281511281e-18\n",
      "50 0.6157205240174672\n",
      "0.6816192560175055\n",
      "0.31838074398249455\n",
      "0.6761487964989059\n",
      "0.08296540902551075\n",
      "0.6706783369803063\n",
      "0.02378513321999547\n",
      "0.6761487964989059\n",
      "0.0001183683217682536\n",
      "0.6761487964989059\n",
      "2.802875415839265e-09\n",
      "0.6761487964989059\n",
      "1.5712221281511281e-18\n",
      "100 0.6157205240174672\n",
      "0.6816192560175055\n",
      "0.31838074398249455\n",
      "0.6761487964989059\n",
      "0.08296540902551075\n",
      "0.6706783369803063\n",
      "0.02378513321999547\n",
      "0.6761487964989059\n",
      "0.0001183683217682536\n",
      "0.6761487964989059\n",
      "2.802875415839265e-09\n",
      "0.6761487964989059\n",
      "1.5712221281511281e-18\n",
      "200 0.6157205240174672\n"
     ]
    }
   ],
   "source": [
    "for n_e in [10, 50, 100, 200]:\n",
    "    accuracy, classification_rep = adaboost_classification(n_e, 1e-10)\n",
    "    print(n_e, accuracy)"
   ]
  },
  {
   "cell_type": "code",
   "execution_count": 97,
   "metadata": {},
   "outputs": [],
   "source": [
    "def weighted_median(data, weights):\n",
    "    if len(weights) != data.shape[0]:\n",
    "        raise ValueError(\"Length of weights array must match the number of columns in data.\")\n",
    "    sorted_data = np.sort(data, axis=0)\n",
    "    cumulative_weights = np.cumsum(weights)\n",
    "    median_indices = np.argmax(cumulative_weights >= 0.5 * cumulative_weights[-1])\n",
    "    median_values = sorted_data[median_indices, :]\n",
    "    return median_values"
   ]
  },
  {
   "cell_type": "code",
   "execution_count": 98,
   "metadata": {},
   "outputs": [],
   "source": [
    "def adaboost_regression(number_of_layers):\n",
    "    df = pd.read_csv('./HousingData.csv')\n",
    "    data_standardized = df.copy()\n",
    "    features = data_standardized.columns.difference([\"MEDV\"])\n",
    "    data_standardized = data_standardized[features]\n",
    "    data_standardized.fillna(data_standardized.mean(), inplace=True)\n",
    "    std_scaler = StandardScaler()\n",
    "    data_standardized = std_scaler.fit_transform(data_standardized)\n",
    "    data_standardized = pd.DataFrame(data_standardized)\n",
    "    df[features] = data_standardized.copy()\n",
    "    x_train, x_test, y_train, y_test = train_test_split(df[features], df[\"MEDV\"], test_size=0.2, random_state=42)\n",
    "    x_train['prob'] = 1 / x_train.shape[0]\n",
    "\n",
    "    betas = []\n",
    "    predictions = []\n",
    "    for _ in range(0, number_of_layers):\n",
    "        model = DecisionTreeRegressor(random_state=42, max_depth=10)\n",
    "        model_fitted = model.fit(x_train[features], y_train, sample_weight=x_train['prob'])\n",
    "        predicted = model_fitted.predict(x_train[features])\n",
    "        x_train['pred'] = predicted\n",
    "        e = abs(y_train - predicted) / max(abs(y_train - predicted))\n",
    "        epsilon = np.sum(e * x_train['prob'].copy().values)\n",
    "        if epsilon >= 0.5:\n",
    "            break\n",
    "        beta = epsilon / (1 - epsilon)\n",
    "        x_train['prob'] = (x_train['prob'] * np.power(beta, 1 - e)) / np.sum(x_train['prob'] * np.power(beta, 1 - e))\n",
    "        betas.append(np.log(1 / beta))\n",
    "        predictions.append(model_fitted.predict(x_test))\n",
    "    predictions = np.array(predictions)\n",
    "    betas = np.array(betas)\n",
    "    ind = weighted_median(predictions, betas)\n",
    "    mse = mean_squared_error(y_test, ind)\n",
    "    return mse"
   ]
  },
  {
   "cell_type": "code",
   "execution_count": 99,
   "metadata": {},
   "outputs": [
    {
     "data": {
      "text/plain": [
       "5.742656465412369"
      ]
     },
     "execution_count": 99,
     "metadata": {},
     "output_type": "execute_result"
    }
   ],
   "source": [
    "adaboost_regression(100)"
   ]
  },
  {
   "cell_type": "code",
   "execution_count": 100,
   "metadata": {},
   "outputs": [],
   "source": [
    "adaboost_regression_estimators = []\n",
    "adaboost_regression_time = []\n",
    "for n_e in [10, 50, 100, 200]:\n",
    "    start_time = time.time()\n",
    "    mse = adaboost_regression(n_e)\n",
    "    adaboost_regression_estimators.append(n_e)\n",
    "    adaboost_regression_time.append(time.time() - start_time)"
   ]
  },
  {
   "cell_type": "code",
   "execution_count": 12,
   "metadata": {},
   "outputs": [],
   "source": [
    "class GradientBoostingClassifier:\n",
    "    def __init__(self, n_estimators=100, learning_rate=0.1):\n",
    "        self.n_estimators = n_estimators\n",
    "        self.learning_rate = learning_rate\n",
    "\n",
    "    def preprocess(self):\n",
    "        df = pd.read_csv('./WineQT.csv')\n",
    "        df['quality'] -= 3\n",
    "        data_standardized = df\n",
    "        features = data_standardized.columns.difference([\"quality\", \"Id\"])\n",
    "        x_train, x_test, y_train, y_test = train_test_split(data_standardized[features], df[\"quality\"], test_size=0.4, random_state=42)\n",
    "        x_train.fillna(x_train.mean(), inplace=True) \n",
    "        x_test.fillna (x_test.mean(), inplace=True)\n",
    "        std_scaler = StandardScaler() \n",
    "        x_train = std_scaler.fit_transform(x_train)\n",
    "        x_test = std_scaler.transform(x_test)\n",
    "        x_train = pd.DataFrame(x_train)\n",
    "        x_test = pd.DataFrame(x_test)\n",
    "        return x_train, y_train, x_test, y_test\n",
    "\n",
    "    def fit(self, X, y):\n",
    "        self.trees = []\n",
    "        predictions = np.log(y.mean()/(1-y.mean()))\n",
    "        self.starting_point = predictions\n",
    "        predictions = np.full(len(y), predictions)\n",
    "        # output = np.mean(y)\n",
    "        for _ in range(self.n_estimators):\n",
    "            p = np.exp(predictions) / (1 + np.exp(predictions))\n",
    "            residuals = y - p\n",
    "            model = DecisionTreeRegressor(max_leaf_nodes=100)\n",
    "            model.fit(X, residuals)\n",
    "            model_predictions = model.apply(X)\n",
    "            for j in np.unique(model_predictions):\n",
    "              fltr = model_predictions == j\n",
    "              num = residuals[fltr].sum()\n",
    "              den = (p[fltr]*(1-p[fltr])).sum()\n",
    "              gamma = num / den\n",
    "              predictions[fltr] += self.learning_rate * gamma\n",
    "              model.tree_.value[j, 0, 0] = gamma\n",
    "            self.trees.append(model)\n",
    "\n",
    "    def predict(self, X):\n",
    "        predictions = np.full(len(X), self.starting_point)\n",
    "        for i in range(self.n_estimators):\n",
    "            predictions += self.learning_rate * self.trees[i].predict(X)\n",
    "        return np.exp(predictions) / (1 + np.exp(predictions))\n",
    "\n",
    "    def do_boosting_for_one_class(self, x_train, y_train, x_test):\n",
    "        predicted = self.fit(x_train, y_train)\n",
    "        return self.predict(x_test)\n",
    "    \n",
    "    def evaluate(self, y_test, predicted):\n",
    "        accuracy = accuracy_score(y_test, predicted)\n",
    "        classification_rep = classification_report(y_test, predicted, zero_division=1.0)\n",
    "        return accuracy, classification_rep\n",
    "    \n",
    "    def do_boosting(self):\n",
    "        x_train, y_train, x_test, y_test = self.preprocess()\n",
    "        final_output = []\n",
    "        classes = np.unique(y_train)\n",
    "        for class_label in classes:\n",
    "            binary_y = np.where(y_train == class_label, 1, 0)\n",
    "            predicted = self.do_boosting_for_one_class(x_train, binary_y, x_test)\n",
    "            final_output.append(predicted)\n",
    "        # print(final_output)\n",
    "        final_output = np.argmax(final_output, axis = 0)\n",
    "        # print(final_output)\n",
    "        return self.evaluate(y_test, final_output)\n",
    "    \n",
    "    def do_boosting_prediction(self):\n",
    "        x_train, y_train, x_test, y_test = self.preprocess()\n",
    "        final_output = []\n",
    "        classes = np.unique(y_train)\n",
    "        for class_label in classes:\n",
    "            binary_y = np.where(y_train == class_label, 1, 0)\n",
    "            predicted = self.do_boosting_for_one_class(x_train, binary_y, x_test)\n",
    "            final_output.append(predicted)\n",
    "        # print(final_output)\n",
    "        final_output = np.argmax(final_output, axis = 0)\n",
    "        # print(final_output)\n",
    "        return y_test, final_output"
   ]
  },
  {
   "cell_type": "code",
   "execution_count": 102,
   "metadata": {},
   "outputs": [
    {
     "data": {
      "text/plain": [
       "0.5720524017467249"
      ]
     },
     "execution_count": 102,
     "metadata": {},
     "output_type": "execute_result"
    }
   ],
   "source": [
    "gbc = GradientBoostingClassifier(n_estimators=100, learning_rate=0.1)\n",
    "gbc.do_boosting()[0]"
   ]
  },
  {
   "cell_type": "code",
   "execution_count": 134,
   "metadata": {},
   "outputs": [],
   "source": [
    "gd_classification_estimators = []\n",
    "gd_classification_time = []\n",
    "for n_e in [10, 50, 100, 200]:\n",
    "    start_time = time.time()\n",
    "    gbc = GradientBoostingClassifier(n_estimators=n_e, learning_rate=0.1)\n",
    "    gbc.do_boosting()[0]\n",
    "    gd_classification_estimators.append(n_e)\n",
    "    gd_classification_time.append(time.time() - start_time)"
   ]
  },
  {
   "cell_type": "code",
   "execution_count": 125,
   "metadata": {},
   "outputs": [
    {
     "name": "stdout",
     "output_type": "stream",
     "text": [
      "10 0.5720524017467249\n",
      "50 0.5589519650655022\n",
      "100 0.5786026200873362\n",
      "200 0.5698689956331878\n"
     ]
    }
   ],
   "source": [
    "for n_e in [10, 50, 100, 200]:\n",
    "    gbc = GradientBoostingClassifier(n_estimators=n_e, learning_rate=0.1)\n",
    "    accuracy = gbc.do_boosting()[0]\n",
    "    print(n_e, accuracy)"
   ]
  },
  {
   "cell_type": "code",
   "execution_count": 104,
   "metadata": {},
   "outputs": [],
   "source": [
    "class GradientBoostingRegressor:\n",
    "    def __init__(self, n_estimators=100, learning_rate=0.1):\n",
    "        self.n_estimators = n_estimators\n",
    "        self.learning_rate = learning_rate\n",
    "        self.models = []\n",
    "\n",
    "    def preprocess(self):\n",
    "        df = pd.read_csv('./HousingData.csv')\n",
    "        data_standardized = df\n",
    "        features = data_standardized.columns.difference([\"MEDV\"])\n",
    "        x_train, x_test, y_train, y_test = train_test_split(data_standardized[features], data_standardized[\"MEDV\"], test_size=0.4, random_state=42)\n",
    "        x_train.fillna(x_train.mean(), inplace=True) \n",
    "        x_test.fillna (x_test.mean(), inplace=True)\n",
    "        std_scaler = StandardScaler() \n",
    "        x_train = std_scaler.fit_transform(x_train)\n",
    "        x_test = std_scaler.transform(x_test)\n",
    "        x_train = pd.DataFrame(x_train)\n",
    "        x_test = pd.DataFrame(x_test)\n",
    "        return x_train, y_train, x_test, y_test\n",
    "\n",
    "    def fit(self, X, y, x_test):\n",
    "        predictions = np.zeros_like(y) + np.mean(y)\n",
    "        output = np.mean(y)\n",
    "        for _ in range(self.n_estimators):\n",
    "            residuals = y - predictions\n",
    "            model = DecisionTreeRegressor(max_leaf_nodes=8)\n",
    "            model.fit(X, residuals)\n",
    "            model_predictions = model.predict(X)\n",
    "            predictions += self.learning_rate * model_predictions\n",
    "            model_predictions = model.predict(x_test)\n",
    "            output += self.learning_rate * model_predictions\n",
    "        return output\n",
    "\n",
    "    def predict(self, X, model):\n",
    "        return model.predict(X)\n",
    "    \n",
    "    def evaluate(self, y_test, predicted):\n",
    "        mse = mean_squared_error(y_test, predicted)\n",
    "        return mse\n",
    "\n",
    "    def do_boosting(self):\n",
    "        x_train, y_train, x_test, y_test = self.preprocess()\n",
    "        predicted = self.fit(x_train, y_train, x_test)\n",
    "        return self.evaluate(y_test, predicted)"
   ]
  },
  {
   "cell_type": "code",
   "execution_count": 105,
   "metadata": {},
   "outputs": [
    {
     "data": {
      "text/plain": [
       "7.6800146674229"
      ]
     },
     "execution_count": 105,
     "metadata": {},
     "output_type": "execute_result"
    }
   ],
   "source": [
    "gbc = GradientBoostingRegressor()\n",
    "gbc.do_boosting()"
   ]
  },
  {
   "cell_type": "code",
   "execution_count": 119,
   "metadata": {},
   "outputs": [],
   "source": [
    "gd_regression_estimators = []\n",
    "gd_regression_time = []\n",
    "for n_e in [10, 50, 100, 200]:\n",
    "    start_time = time.time()\n",
    "    gbc = GradientBoostingRegressor(n_estimators=n_e)\n",
    "    gbc.do_boosting()\n",
    "    gd_regression_estimators.append(n_e)\n",
    "    gd_regression_time.append(time.time() - start_time)"
   ]
  },
  {
   "cell_type": "code",
   "execution_count": 127,
   "metadata": {},
   "outputs": [
    {
     "data": {
      "image/png": "[encoded data removed]",
      "text/plain": [
       "<Figure size 1200x600 with 1 Axes>"
      ]
     },
     "metadata": {},
     "output_type": "display_data"
    }
   ],
   "source": [
    "data1 = [59.82]\n",
    "data2 = [61.57]\n",
    "data3 = [57.86]\n",
    "indices = np.arange(len(data1))\n",
    "\n",
    "indices = np.arange(len(data1))\n",
    "\n",
    "# Plotting side-by-side histograms\n",
    "plt.figure(figsize=(12, 6))\n",
    "\n",
    "bar_width = 0.25  # Adjust as needed\n",
    "\n",
    "plt.bar(indices - bar_width, data1, width=bar_width, alpha=0.5, label='Dataset 1', color='blue')\n",
    "plt.bar(indices, data2, width=bar_width, alpha=0.5, label='Dataset 2', color='orange')\n",
    "plt.bar(indices + bar_width, data3, width=bar_width, alpha=0.5, label='Dataset 3', color='green')\n",
    "\n",
    "plt.xlabel('Categories')\n",
    "plt.ylabel('Values')\n",
    "plt.title('Side-by-Side Histograms')\n",
    "plt.legend()\n",
    "plt.show()"
   ]
  },
  {
   "cell_type": "code",
   "execution_count": 138,
   "metadata": {},
   "outputs": [
    {
     "data": {
      "image/png": "[encoded data removed]",
      "text/plain": [
       "<Figure size 1000x600 with 2 Axes>"
      ]
     },
     "metadata": {},
     "output_type": "display_data"
    }
   ],
   "source": [
    "datasets = ['10', '50', '100', '200']\n",
    "training_time = adaboost_classification_estimators\n",
    "accuracy = adaboost_classification_time\n",
    "\n",
    "indices = np.arange(len(datasets))\n",
    "\n",
    "# Plotting training time\n",
    "fig, ax1 = plt.subplots(figsize=(10, 6))\n",
    "\n",
    "color = 'tab:red'\n",
    "ax1.set_xlabel('Datasets')\n",
    "ax1.set_ylabel('Training Time (s)', color=color)\n",
    "ax1.bar(indices, training_time, color=color)\n",
    "ax1.tick_params(axis='y', labelcolor=color)\n",
    "\n",
    "# Creating a second y-axis for accuracy\n",
    "ax2 = ax1.twinx()\n",
    "color = 'tab:blue'\n",
    "ax2.set_ylabel('Accuracy', color=color)\n",
    "ax2.plot(indices, accuracy, marker='o', linestyle='-', color=color)\n",
    "ax2.tick_params(axis='y', labelcolor=color)\n",
    "\n",
    "plt.title('Training Time and Accuracy Comparison')\n",
    "plt.xticks(indices, datasets)\n",
    "plt.show()"
   ]
  },
  {
   "cell_type": "code",
   "execution_count": 139,
   "metadata": {},
   "outputs": [
    {
     "data": {
      "image/png": "[encoded data removed]",
      "text/plain": [
       "<Figure size 1000x600 with 2 Axes>"
      ]
     },
     "metadata": {},
     "output_type": "display_data"
    }
   ],
   "source": [
    "datasets = ['10', '50', '100', '200']\n",
    "training_time = gd_classification_estimators\n",
    "accuracy = gd_classification_time\n",
    "\n",
    "indices = np.arange(len(datasets))\n",
    "\n",
    "# Plotting training time\n",
    "fig, ax1 = plt.subplots(figsize=(10, 6))\n",
    "\n",
    "color = 'tab:red'\n",
    "ax1.set_xlabel('Datasets')\n",
    "ax1.set_ylabel('Training Time (s)', color=color)\n",
    "ax1.bar(indices, training_time, color=color)\n",
    "ax1.tick_params(axis='y', labelcolor=color)\n",
    "\n",
    "# Creating a second y-axis for accuracy\n",
    "ax2 = ax1.twinx()\n",
    "color = 'tab:blue'\n",
    "ax2.set_ylabel('Accuracy', color=color)\n",
    "ax2.plot(indices, accuracy, marker='o', linestyle='-', color=color)\n",
    "ax2.tick_params(axis='y', labelcolor=color)\n",
    "\n",
    "plt.title('Training Time and Accuracy Comparison')\n",
    "plt.xticks(indices, datasets)\n",
    "plt.show()"
   ]
  },
  {
   "cell_type": "code",
   "execution_count": 141,
   "metadata": {},
   "outputs": [
    {
     "data": {
      "image/png": "[encoded data removed]",
      "text/plain": [
       "<Figure size 640x480 with 1 Axes>"
      ]
     },
     "metadata": {},
     "output_type": "display_data"
    }
   ],
   "source": [
    "x = adaboost_classification_estimators\n",
    "y = adaboost_classification_time\n",
    "\n",
    "# Plot the line chart\n",
    "plt.plot(x, y)\n",
    "\n",
    "# Set the title of the graph\n",
    "plt.title('Line Chart')\n",
    "\n",
    "# Set the labels for the x and y axes\n",
    "plt.xlabel('x')\n",
    "plt.ylabel('y')\n",
    "\n",
    "# Show the graph\n",
    "plt.show()"
   ]
  },
  {
   "cell_type": "code",
   "execution_count": 140,
   "metadata": {},
   "outputs": [
    {
     "data": {
      "image/png": "[encoded data removed]",
      "text/plain": [
       "<Figure size 640x480 with 1 Axes>"
      ]
     },
     "metadata": {},
     "output_type": "display_data"
    }
   ],
   "source": [
    "x = gd_classification_estimators\n",
    "y = gd_classification_time\n",
    "\n",
    "# Plot the line chart\n",
    "plt.plot(x, y)\n",
    "\n",
    "# Set the title of the graph\n",
    "plt.title('Line Chart')\n",
    "\n",
    "# Set the labels for the x and y axes\n",
    "plt.xlabel('x')\n",
    "plt.ylabel('y')\n",
    "\n",
    "# Show the graph\n",
    "plt.show()"
   ]
  },
  {
   "cell_type": "markdown",
   "metadata": {},
   "source": [
    "## Analysis of Mistakes in Gradient Boosting + Decision Trees\n",
    "\n",
    "### Common Mistakes:\n",
    "1. *Overfitting:*\n",
    "   - *Issue:* Gradient boosting can be prone to overfitting, especially if the base decision trees are deep.\n",
    "   - *Explanation:* As each tree corrects the errors of the previous ones, if the trees are too complex, they can capture noise in the data, leading to overfitting.\n",
    "\n",
    "2. *Sensitivity to Noisy Data:*\n",
    "   - *Issue:* Gradient boosting can be sensitive to outliers and noisy data.\n",
    "   - *Explanation:* Outliers can have a substantial impact on the model, and since boosting focuses on correcting errors, it might give too much weight to outliers.\n",
    "\n",
    "3. *Computationally Intensive:*\n",
    "   - *Issue:* Training a large number of decision trees can be computationally expensive.\n",
    "   - *Explanation:* Gradient boosting involves sequentially adding trees to correct errors, and each tree is trained to minimize the residual errors. This sequential nature makes it more computationally intensive compared to parallel methods.\n",
    "\n",
    "### Feature Similarity in Common Mistakes:\n",
    "\n",
    "1. *Tree Structure:*\n",
    "   - Both models rely on decision trees, and the structure of these trees can contribute to overfitting. If decision trees are allowed to grow too deep or are not pruned properly, they may capture noise instead of underlying patterns.\n",
    "\n",
    "2. *Error Correction:*\n",
    "   - Both models work by sequentially correcting errors made by the previous models. If the errors are noisy or if there's overfitting in the individual trees, this sequential correction might lead to an overly complex final model.\n",
    "\n",
    "3. *Sensitivity to Outliers:*\n",
    "   - Since both models aim to correct errors, they can be sensitive to outliers. Outliers may introduce noise that the models try to fit, leading to suboptimal generalization.\n",
    "4. *Ensemble Nature:*\n",
    "   - Both models are ensemble methods that combine weak learners to create a strong learner. While this can improve predictive performance, it also introduces complexities, such as potential overfitting and sensitivity to noisy data.\n",
    "\n",
    "## Analysis of Mistakes in Adaboost + Decision Trees\n",
    "\n",
    "### Common Mistakes:\n",
    "\n",
    "1. *Overfitting:*\n",
    "   - *Issue:* Adaboost can be susceptible to overfitting, especially if the base learners are too complex.\n",
    "   - *Explanation:* Similar to gradient boosting, Adaboost focuses on correcting misclassifications by assigning higher weights to misclassified instances. If the base learners are too complex, they might overfit to the training data.\n",
    "\n",
    "2. *Noisy Data Impact:*\n",
    "   - *Issue:* Adaboost is sensitive to noisy data and outliers.\n",
    "   - *Explanation:* As Adaboost gives more weight to misclassified instances, noisy data points or outliers can significantly influence the model's decision boundaries.\n",
    "\n",
    "3. *Computational Complexity:*\n",
    "   - *Issue:* Training multiple weak learners sequentially can be computationally expensive.\n",
    "   - *Explanation:* Adaboost builds an ensemble by giving more weight to misclassified instances. This sequential process may be time-consuming, especially if the weak learners are computationally expensive.\n",
    "\n",
    "### Feature Similarity in Common Mistakes:\n",
    "\n",
    "1. *Weak Learners:*\n",
    "   - Both models rely on decision trees as weak learners. If these trees are too complex or not properly constrained, they can contribute to overfitting.\n",
    "\n",
    "2. *Error Correction:*\n",
    "   - Both Adaboost and gradient boosting work by iteratively correcting errors made by the previous models. This sequential correction can be a source of overfitting if the base learners are too flexible.\n",
    "3. *Sensitivity to Noisy Data:*\n",
    "   - Both models are sensitive to noisy data and outliers. Since they focus on correcting errors, noisy data points may have a disproportionate influence on the final model.\n",
    "\n",
    "4. *Ensemble Nature:*\n",
    "   - Adaboost, like gradient boosting, is an ensemble method. The ensemble nature can lead to overfitting if not properly regularized or if weak learners are too complex.\n",
    "\n",
    "### Overall Similarities:\n",
    "Both models share similarities in terms of their reliance on decision trees, sequential error correction, and sensitivity to noisy data. Ensuring proper regularization of base learners, limiting tree depth, and considering the impact of outliers are crucial for mitigating these common mistakes in both gradient boosting and Adaboost with decision trees."
   ]
  },
  {
   "cell_type": "code",
   "execution_count": 13,
   "metadata": {},
   "outputs": [
    {
     "name": "stdout",
     "output_type": "stream",
     "text": [
      "0.6816192560175055\n",
      "0.31838074398249455\n",
      "0.6761487964989059\n",
      "0.08296540902551075\n",
      "0.6706783369803063\n",
      "0.02378513321999547\n",
      "0.6761487964989059\n",
      "0.0001183683217682536\n",
      "0.6761487964989059\n",
      "2.802875415839265e-09\n",
      "0.6761487964989059\n",
      "1.5712221281511281e-18\n"
     ]
    },
    {
     "data": {
      "image/png": "[encoded data removed]",
      "text/plain": [
       "<Figure size 800x600 with 1 Axes>"
      ]
     },
     "metadata": {},
     "output_type": "display_data"
    }
   ],
   "source": [
    "actual_labels, predicted_labels = adaboost_classification_prediction(10, 1e-10)\n",
    "\n",
    "cm = confusion_matrix(actual_labels, predicted_labels)\n",
    "\n",
    "plt.figure(figsize=(8, 6))\n",
    "sns.heatmap(cm, annot=True, fmt=\"d\", cmap=\"Blues\", cbar=False)\n",
    "plt.title(\"Confusion Matrix\")\n",
    "plt.xlabel(\"Predicted\")\n",
    "plt.ylabel(\"Actual\")\n",
    "plt.show()"
   ]
  },
  {
   "cell_type": "code",
   "execution_count": 14,
   "metadata": {},
   "outputs": [
    {
     "data": {
      "image/png": "[encoded data removed]",
      "text/plain": [
       "<Figure size 800x600 with 1 Axes>"
      ]
     },
     "metadata": {},
     "output_type": "display_data"
    }
   ],
   "source": [
    "gbc = GradientBoostingClassifier(n_estimators=100, learning_rate=0.1)\n",
    "actual_labels, predicted_labels = gbc.do_boosting_prediction()\n",
    "\n",
    "cm = confusion_matrix(actual_labels, predicted_labels)\n",
    "\n",
    "plt.figure(figsize=(8, 6))\n",
    "sns.heatmap(cm, annot=True, fmt=\"d\", cmap=\"Blues\", cbar=False)\n",
    "plt.title(\"Confusion Matrix\")\n",
    "plt.xlabel(\"Predicted\")\n",
    "plt.ylabel(\"Actual\")\n",
    "plt.show()"
   ]
  },
  {
   "cell_type": "code",
   "execution_count": null,
   "metadata": {},
   "outputs": [],
   "source": []
  }
 ],
 "metadata": {
  "kernelspec": {
   "display_name": "Python 3",
   "language": "python",
   "name": "python3"
  },
  "language_info": {
   "codemirror_mode": {
    "name": "ipython",
    "version": 3
   },
   "file_extension": ".py",
   "mimetype": "text/x-python",
   "name": "python",
   "nbconvert_exporter": "python",
   "pygments_lexer": "ipython3",
   "version": "3.11.6"
  }
 },
 "nbformat": 4,
 "nbformat_minor": 2
}
